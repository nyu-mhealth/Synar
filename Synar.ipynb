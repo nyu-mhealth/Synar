{
 "cells": [
  {
   "cell_type": "code",
   "execution_count": 1,
   "metadata": {
    "collapsed": false
   },
   "outputs": [
    {
     "name": "stdout",
     "output_type": "stream",
     "text": [
      "Populating the interactive namespace from numpy and matplotlib\n"
     ]
    }
   ],
   "source": [
    "import geopandas as gp\n",
    "import pandas as pd\n",
    "import numpy as np\n",
    "import os\n",
    "import json\n",
    "import pylab as pl\n",
    "import scipy.stats\n",
    "import matplotlib.pyplot as plt\n",
    "import numpy as np\n",
    "import pandas as pd\n",
    "import statsmodels.api as sm\n",
    "import statsmodels.formula.api as smf\n",
    "from statsmodels.graphics.api import abline_plot\n",
    "import geopandas as gpd\n",
    "import csv\n",
    "%pylab inline"
   ]
  },
  {
   "cell_type": "code",
   "execution_count": 2,
   "metadata": {
    "collapsed": false
   },
   "outputs": [],
   "source": [
    "#cd data"
   ]
  },
  {
   "cell_type": "code",
   "execution_count": 3,
   "metadata": {
    "collapsed": false
   },
   "outputs": [],
   "source": [
    "synar = pd.read_csv('synar_10-13_prox_geocoded.csv')"
   ]
  },
  {
   "cell_type": "code",
   "execution_count": 4,
   "metadata": {
    "collapsed": false
   },
   "outputs": [
    {
     "name": "stdout",
     "output_type": "stream",
     "text": [
      "Index([u'Outlet.ID', u'storen_year', u'storen', u'Inspection.Date',\n",
      "       u'Time.of.Visit', u'Investigator.ID.number', u'Investigator.Name',\n",
      "       u'Investigator.Age', u'Gender', u'Adults.Supervisor',\n",
      "       u'Name.of.Police.Officer.s.', u'Outlet.name',\n",
      "       u'Outlet.building..number', u'Outlet.Street.name', u'Outlet.Quadrant',\n",
      "       u'Outlet.City', u'Outlet.State', u'Zip.code', u'Ward',\n",
      "       u'Name.or.address.correction.', u'Type.of.outlet', u'Sales.mode',\n",
      "       u'Is.outlet.eligible.', u'If..no..check.one.of.the.following.reasons',\n",
      "       u'If.outlet.is.eligible..was.inspection.completed.',\n",
      "       u'If.no..check.one.of.the.following.reasons.',\n",
      "       u'If.inspection.was.completed..was.buy.attempt.successful..Sale.M.',\n",
      "       u'Age.asked.', u'ID.requested.', u'Product', u'Note.',\n",
      "       u'Sales.Clerk.name', u'Sales.Clerk.Sex', u'Sales.Clerk.Age.Range.',\n",
      "       u'Sales.Clerk.Race.Ethnicity', u'Illegal.Vending.Machine.Present',\n",
      "       u'Illegal.to.Sell.Tolbacco.to.persons.under.18.years.of.age..sign',\n",
      "       u'Single.cigarettes.visible.for.sale',\n",
      "       u'Cigarettes.kept.in.locked.case', u'Youth.Inspector.Initial',\n",
      "       u'Adult.Inspector.Signature', u'Officer.Signature', u'Badge.Number',\n",
      "       u'year', u'category', u'fstore', u'violation', u'categorylag',\n",
      "       u'cat_change', u'address', u'baseball_fields_prox',\n",
      "       u'basketball_courts_prox', u'charter_high_school_prox',\n",
      "       u'football_fields_prox', u'parks_prox', u'playground_prox',\n",
      "       u'pool_spraypark_prox', u'private_high_school_prox',\n",
      "       u'public_high_school_prox', u'public_housing_prox',\n",
      "       u'recreation_area_prox', u'roadway_green_space_prox',\n",
      "       u'soccer_fields_prox', u'tennis_court_prox', u'track_prox',\n",
      "       u'baseball_fields1', u'basketball_courts1', u'charter_high_school1',\n",
      "       u'football_fields1', u'parks1', u'playground1', u'pool_spraypark1',\n",
      "       u'private_high_school1', u'public_high_school1', u'public_housing1',\n",
      "       u'recreation_area1', u'roadway_green_space1', u'soccer_fields1',\n",
      "       u'tennis_court1', u'track1', u'm100baseball_fields',\n",
      "       u'm100basketball_courts', u'm100charter_high_school',\n",
      "       u'm100football_fields', u'm100parks', u'm100playground',\n",
      "       u'm100pool_spraypark', u'm100private_high_school',\n",
      "       u'm100public_high_school', u'm100public_housing',\n",
      "       u'm100recreation_area', u'm100roadway_green_space',\n",
      "       u'm100soccer_fields', u'm100tennis_court', u'm100track', u'matchaddr',\n",
      "       u'MAR_LATITU', u'MAR_LONGIT', u'MAR_CENSUS', u'GEO_ID'],\n",
      "      dtype='object')\n"
     ]
    }
   ],
   "source": [
    "print synar.columns"
   ]
  },
  {
   "cell_type": "code",
   "execution_count": 5,
   "metadata": {
    "collapsed": true
   },
   "outputs": [],
   "source": [
    "#rename: violation, \n",
    "\n",
    "#violation, ward,year', 'category\n",
    "synar = synar.rename(columns=\n",
    "                     {'Is.outlet.eligible.': 'Is.outlet_eligible',\n",
    "                     'Age.asked.':'Age_asked', \n",
    "                      'ID.requested.':'ID_requested'})\n"
   ]
  },
  {
   "cell_type": "markdown",
   "metadata": {},
   "source": [
    "## 2010"
   ]
  },
  {
   "cell_type": "code",
   "execution_count": 6,
   "metadata": {
    "collapsed": false
   },
   "outputs": [],
   "source": [
    "synar['violation2010'] = synar['violation'][synar['year']==2010]\n",
    "synar['ward2010'] = synar['Ward'][synar['year']==2010]\n",
    "synar['category2010'] = synar['category'][synar['year']==2010]\n",
    "synar['Age_asked2010'] = synar['Age_asked'][synar['year']==2010]\n",
    "synar['ID_requested2010'] = synar['ID_requested'][synar['year']==2010]"
   ]
  },
  {
   "cell_type": "markdown",
   "metadata": {},
   "source": [
    "## 2011"
   ]
  },
  {
   "cell_type": "code",
   "execution_count": 7,
   "metadata": {
    "collapsed": true
   },
   "outputs": [],
   "source": [
    "synar['violation2011'] = synar['violation'][synar['year']==2011]\n",
    "synar['ward2011'] = synar['Ward'][synar['year']==2011]\n",
    "synar['category2011'] = synar['category'][synar['year']==2011]\n",
    "synar['Age_asked2011'] = synar['Age_asked'][synar['year']==2011]\n",
    "synar['ID_requested2011'] = synar['ID_requested'][synar['year']==2011]"
   ]
  },
  {
   "cell_type": "markdown",
   "metadata": {},
   "source": [
    "## 2012"
   ]
  },
  {
   "cell_type": "code",
   "execution_count": 8,
   "metadata": {
    "collapsed": true
   },
   "outputs": [],
   "source": [
    "synar['violation2012'] = synar['violation'][synar['year']==2012]\n",
    "synar['ward2012'] = synar['Ward'][synar['year']==2012]\n",
    "synar['category2012'] = synar['category'][synar['year']==2012]\n",
    "synar['Age_asked2012'] = synar['Age_asked'][synar['year']==2012]\n",
    "synar['ID_requested2012'] = synar['ID_requested'][synar['year']==2012]"
   ]
  },
  {
   "cell_type": "markdown",
   "metadata": {},
   "source": [
    "## 2013"
   ]
  },
  {
   "cell_type": "code",
   "execution_count": 9,
   "metadata": {
    "collapsed": true
   },
   "outputs": [],
   "source": [
    "synar['violation2013'] = synar['violation'][synar['year']==2013]\n",
    "synar['ward2013'] = synar['Ward'][synar['year']==2013]\n",
    "synar['category2013'] = synar['category'][synar['year']==2013]\n",
    "synar['Age_asked2013'] = synar['Age_asked'][synar['year']==2013]\n",
    "synar['ID_requested2013'] = synar['ID_requested'][synar['year']==2013]"
   ]
  },
  {
   "cell_type": "code",
   "execution_count": 10,
   "metadata": {
    "collapsed": false
   },
   "outputs": [],
   "source": [
    "#print synar.violation2013"
   ]
  },
  {
   "cell_type": "code",
   "execution_count": 11,
   "metadata": {
    "collapsed": false
   },
   "outputs": [],
   "source": [
    "synar['Outlet_Street_name'] = synar['Outlet.Street.name'] \n",
    "#synar['Name_or_address_correction'] = synar['Name.or.address.correction'] \n",
    "synar['Type_of_outlet'] = synar['Type.of.outlet']"
   ]
  },
  {
   "cell_type": "code",
   "execution_count": 12,
   "metadata": {
    "collapsed": false
   },
   "outputs": [
    {
     "name": "stdout",
     "output_type": "stream",
     "text": [
      "0    11th\n",
      "1    11th\n",
      "Name: Outlet_Street_name, dtype: object\n"
     ]
    }
   ],
   "source": [
    "print synar.Outlet_Street_name.head(2)"
   ]
  },
  {
   "cell_type": "code",
   "execution_count": 13,
   "metadata": {
    "collapsed": false
   },
   "outputs": [
    {
     "data": {
      "text/plain": [
       "array(['Market', 'Carry Out/Convenience', 'Grocery Store', 'Gas Station',\n",
       "       'Liquor Store', 'Bar/Lounge', 'Drug Store/Pharmacy', 'Restaurant',\n",
       "       'Gift Shop', 'Other', 'Deli', nan, 'Cigar Shop', 'Outlet',\n",
       "       'Record Store', 'Pool Bar', 'Hookah Bar', 'Hotel', 'Cigar Lounge',\n",
       "       'Discount Mart', 'Pool Hall', 'Tobacco Shop', 'Tobacco Store'], dtype=object)"
      ]
     },
     "execution_count": 13,
     "metadata": {},
     "output_type": "execute_result"
    }
   ],
   "source": [
    "pd.unique(synar.Type_of_outlet.ravel())"
   ]
  },
  {
   "cell_type": "code",
   "execution_count": 14,
   "metadata": {
    "collapsed": false
   },
   "outputs": [],
   "source": [
    "census = pd.read_csv('DEC_10_SF1_P3_with_ann.csv')"
   ]
  },
  {
   "cell_type": "code",
   "execution_count": 15,
   "metadata": {
    "collapsed": false
   },
   "outputs": [
    {
     "data": {
      "text/plain": [
       "Index([u'GEO_ID', u'Id2', u'Geography', u'Total:', u'White alone',\n",
       "       u'Black or African American alone',\n",
       "       u'American Indian and Alaska Native alone', u'Asian alone',\n",
       "       u'Native Hawaiian and Other Pacific Islander alone',\n",
       "       u'Some Other Race alone', u'Two or More Races'],\n",
       "      dtype='object')"
      ]
     },
     "execution_count": 15,
     "metadata": {},
     "output_type": "execute_result"
    }
   ],
   "source": [
    "census.columns"
   ]
  },
  {
   "cell_type": "code",
   "execution_count": 16,
   "metadata": {
    "collapsed": false
   },
   "outputs": [],
   "source": [
    "census = census.rename(columns={'Total:':'total'})\n",
    "census = census.rename(columns={'Black or African American alone':'black'})"
   ]
  },
  {
   "cell_type": "code",
   "execution_count": 17,
   "metadata": {
    "collapsed": false
   },
   "outputs": [],
   "source": [
    "outletposse = pd.read_csv('outlet1081.csv')\n"
   ]
  },
  {
   "cell_type": "markdown",
   "metadata": {},
   "source": [
    "## black_prec_binary- 1= => 56% 0= =<56%"
   ]
  },
  {
   "cell_type": "markdown",
   "metadata": {},
   "source": [
    "### outletposse_merged2 is the final file merged for every year (2010-2013) data \n",
    "### + 56% black population "
   ]
  },
  {
   "cell_type": "code",
   "execution_count": 18,
   "metadata": {
    "collapsed": false
   },
   "outputs": [],
   "source": [
    "#len(outletposse_merged2)"
   ]
  },
  {
   "cell_type": "code",
   "execution_count": 19,
   "metadata": {
    "collapsed": false
   },
   "outputs": [
    {
     "data": {
      "text/plain": [
       "1081"
      ]
     },
     "execution_count": 19,
     "metadata": {},
     "output_type": "execute_result"
    }
   ],
   "source": [
    "len(outletposse)"
   ]
  },
  {
   "cell_type": "markdown",
   "metadata": {},
   "source": [
    "### Before merge- 1081 after merge- 1167"
   ]
  },
  {
   "cell_type": "code",
   "execution_count": 20,
   "metadata": {
    "collapsed": false
   },
   "outputs": [
    {
     "ename": "NameError",
     "evalue": "name 'outletposse_merged2' is not defined",
     "output_type": "error",
     "traceback": [
      "\u001b[0;31m---------------------------------------------------------------------------\u001b[0m",
      "\u001b[0;31mNameError\u001b[0m                                 Traceback (most recent call last)",
      "\u001b[0;32m<ipython-input-20-07f4e2719f37>\u001b[0m in \u001b[0;36m<module>\u001b[0;34m()\u001b[0m\n\u001b[0;32m----> 1\u001b[0;31m \u001b[0;32mprint\u001b[0m \u001b[0moutletposse_merged2\u001b[0m\u001b[0;34m.\u001b[0m\u001b[0mhead\u001b[0m\u001b[0;34m(\u001b[0m\u001b[0;36m4\u001b[0m\u001b[0;34m)\u001b[0m\u001b[0;34m\u001b[0m\u001b[0m\n\u001b[0m",
      "\u001b[0;31mNameError\u001b[0m: name 'outletposse_merged2' is not defined"
     ]
    }
   ],
   "source": [
    "#print outletposse_merged2.head(4)"
   ]
  },
  {
   "cell_type": "code",
   "execution_count": 23,
   "metadata": {
    "collapsed": false
   },
   "outputs": [],
   "source": [
    "#print outletposse_merged2.columns.values.tolist()"
   ]
  },
  {
   "cell_type": "code",
   "execution_count": 24,
   "metadata": {
    "collapsed": false
   },
   "outputs": [],
   "source": [
    "#print census.black.head(6)"
   ]
  },
  {
   "cell_type": "code",
   "execution_count": 25,
   "metadata": {
    "collapsed": true
   },
   "outputs": [],
   "source": [
    "census['black_prec']= (census['black']/census['total'])*100"
   ]
  },
  {
   "cell_type": "code",
   "execution_count": 26,
   "metadata": {
    "collapsed": false
   },
   "outputs": [
    {
     "name": "stdout",
     "output_type": "stream",
     "text": [
      "0    1.563663\n",
      "1    2.456647\n",
      "2    1.375752\n",
      "3    3.400000\n",
      "4    6.613892\n",
      "Name: black_prec, dtype: float64\n"
     ]
    }
   ],
   "source": [
    "print census.black_prec.head(5)"
   ]
  },
  {
   "cell_type": "code",
   "execution_count": 27,
   "metadata": {
    "collapsed": false
   },
   "outputs": [],
   "source": [
    "census['black_prec_binary']= 1*(census['black_prec']>=56)"
   ]
  },
  {
   "cell_type": "markdown",
   "metadata": {},
   "source": [
    "### black_prec_binary = 1 for bigger than 56% black population "
   ]
  },
  {
   "cell_type": "code",
   "execution_count": 28,
   "metadata": {
    "collapsed": false
   },
   "outputs": [
    {
     "name": "stdout",
     "output_type": "stream",
     "text": [
      "0    0\n",
      "Name: black_prec_binary, dtype: int64\n"
     ]
    }
   ],
   "source": [
    "print census.black_prec_binary.head(1)"
   ]
  },
  {
   "cell_type": "code",
   "execution_count": 29,
   "metadata": {
    "collapsed": false
   },
   "outputs": [
    {
     "name": "stdout",
     "output_type": "stream",
     "text": [
      "['OBJECTID', 'target_fid', 'fid_1', 'fid_1_1', 'cust_num', 'decription', 'corp_name', 'trade_name', 'name', 'address', 'renewal_pe', 'addrid', 'score', 'addrerr', 'geoid', 'store_id', 'matchaddr', 'objectid_12', 'objectid_1', 'objectid_2', 'objectid_12_13', 'type', 'type_other', 'storeopen', 'namechg', 'totalads', 'ad_menthol', 'ad_lcc', 'ad_detach', 'price_any', 'price_low', 'price_bran', 'price_bra0', 'price_open', 'price_pack', 'price_spec', 'tax_ext', 'promo_ext_', 'promo_ext0', 'promo_ext1', 'adlevel_ex', 'ageofsale', 'registers', 'tobacco_an', 'lowprice', 'price_bra1', 'price_bra2', 'open_brand', 'special_lo', 'tax_lowpri', 'promo_int_', 'promo_int0', 'promo_int1', 'adlevel_in', 'sell_new', 'place_new', 'ads_new', 'pricead_ne', 'special_ne', 'taxad_new', 'pricenoad2', 'taxnoad_ne', 'promoad_ne', 'promoad_n0', 'promoad_n1', 'single_lcc', 'typesingle', 'typesingl0', 'typesingl1', 'place_sing', 'pack_lcc', 'typepack_l', 'typepack_0', 'typepack_1', 'place_lccp', 'sell_lcc', 'place_lcc', 'ads_lcc', 'pricead_lc', 'special_lc', 'taxad_lcc', 'countad_lc', 'typead_lcc', 'typead_lc0', 'typead_lc1', 'pricenoad0', 'taxnoad_lc', 'countnoad_', 'typenoad_l', 'typenoad_0', 'typenoad_1', 'promoad_lc', 'promoad_l0', 'promoad_l1', 'x', 'y', 'store_ido', 'store_id_1', 'objectid_12_13_14', 'cust_num_1', 'id', 'sequence', 'random', 'mar_addrnu', 'mar_stname', 'mar_street', 'mar_quadra', 'mar_city', 'mar_state', 'mar_zipcod', 'mar_ward', 'x_1', 'y_1', 'intptlat00', 'intptlon00', 'bkgpidfp00', 'fips', 'marid', 'id1', 'date_', 'type_1', 'product', 'note_', 'locked', 'sign', 'loosie', 'address_1', 'mar_census', 'eligible', 'inspected', 'sale', 'age', 'idrequest', 'cohort', 'outlet_id', 'dup1', 'maridlong']\n"
     ]
    }
   ],
   "source": [
    "#matchaddr\n",
    "print outletposse.columns.values.tolist()\n",
    "outletposse = outletposse.rename(columns={'Total:':'total'})\n"
   ]
  },
  {
   "cell_type": "code",
   "execution_count": 30,
   "metadata": {
    "collapsed": false
   },
   "outputs": [
    {
     "name": "stdout",
     "output_type": "stream",
     "text": [
      "['Outlet.ID', 'storen_year', 'storen', 'Inspection.Date', 'Time.of.Visit', 'Investigator.ID.number', 'Investigator.Name', 'Investigator.Age', 'Gender', 'Adults.Supervisor', 'Name.of.Police.Officer.s.', 'Outlet.name', 'Outlet.building..number', 'Outlet.Street.name', 'Outlet.Quadrant', 'Outlet.City', 'Outlet.State', 'Zip.code', 'Ward', 'Name.or.address.correction.', 'Type.of.outlet', 'Sales.mode', 'Is.outlet_eligible', 'If..no..check.one.of.the.following.reasons', 'If.outlet.is.eligible..was.inspection.completed.', 'If.no..check.one.of.the.following.reasons.', 'If.inspection.was.completed..was.buy.attempt.successful..Sale.M.', 'Age_asked', 'ID_requested', 'Product', 'Note.', 'Sales.Clerk.name', 'Sales.Clerk.Sex', 'Sales.Clerk.Age.Range.', 'Sales.Clerk.Race.Ethnicity', 'Illegal.Vending.Machine.Present', 'Illegal.to.Sell.Tolbacco.to.persons.under.18.years.of.age..sign', 'Single.cigarettes.visible.for.sale', 'Cigarettes.kept.in.locked.case', 'Youth.Inspector.Initial', 'Adult.Inspector.Signature', 'Officer.Signature', 'Badge.Number', 'year', 'category', 'fstore', 'violation', 'categorylag', 'cat_change', 'address', 'baseball_fields_prox', 'basketball_courts_prox', 'charter_high_school_prox', 'football_fields_prox', 'parks_prox', 'playground_prox', 'pool_spraypark_prox', 'private_high_school_prox', 'public_high_school_prox', 'public_housing_prox', 'recreation_area_prox', 'roadway_green_space_prox', 'soccer_fields_prox', 'tennis_court_prox', 'track_prox', 'baseball_fields1', 'basketball_courts1', 'charter_high_school1', 'football_fields1', 'parks1', 'playground1', 'pool_spraypark1', 'private_high_school1', 'public_high_school1', 'public_housing1', 'recreation_area1', 'roadway_green_space1', 'soccer_fields1', 'tennis_court1', 'track1', 'm100baseball_fields', 'm100basketball_courts', 'm100charter_high_school', 'm100football_fields', 'm100parks', 'm100playground', 'm100pool_spraypark', 'm100private_high_school', 'm100public_high_school', 'm100public_housing', 'm100recreation_area', 'm100roadway_green_space', 'm100soccer_fields', 'm100tennis_court', 'm100track', 'matchaddr', 'MAR_LATITU', 'MAR_LONGIT', 'MAR_CENSUS', 'GEO_ID', 'violation2010', 'ward2010', 'category2010', 'Age_asked2010', 'ID_requested2010', 'violation2011', 'ward2011', 'category2011', 'Age_asked2011', 'ID_requested2011', 'violation2012', 'ward2012', 'category2012', 'Age_asked2012', 'ID_requested2012', 'violation2013', 'ward2013', 'category2013', 'Age_asked2013', 'ID_requested2013', 'Outlet_Street_name', 'Type_of_outlet']\n"
     ]
    }
   ],
   "source": [
    "#matchaddr\n",
    "print synar.columns.values.tolist()"
   ]
  },
  {
   "cell_type": "markdown",
   "metadata": {},
   "source": [
    "## print census.columns.values.tolist()"
   ]
  },
  {
   "cell_type": "markdown",
   "metadata": {},
   "source": [
    "### Object ID : created with GIS. ** storen is the indentifier \n",
    "### m100: normalized to meters, use those variabels as proximities"
   ]
  },
  {
   "cell_type": "code",
   "execution_count": 31,
   "metadata": {
    "collapsed": false
   },
   "outputs": [
    {
     "data": {
      "text/plain": [
       "Index([u'Outlet.ID', u'storen_year', u'storen', u'Inspection.Date',\n",
       "       u'Time.of.Visit', u'Investigator.ID.number', u'Investigator.Name',\n",
       "       u'Investigator.Age', u'Gender', u'Adults.Supervisor', \n",
       "       ...\n",
       "       u'category2012', u'Age_asked2012', u'ID_requested2012',\n",
       "       u'violation2013', u'ward2013', u'category2013', u'Age_asked2013',\n",
       "       u'ID_requested2013', u'Outlet_Street_name', u'Type_of_outlet'],\n",
       "      dtype='object', length=122)"
      ]
     },
     "execution_count": 31,
     "metadata": {},
     "output_type": "execute_result"
    }
   ],
   "source": [
    "synar.columns"
   ]
  },
  {
   "cell_type": "code",
   "execution_count": 32,
   "metadata": {
    "collapsed": false
   },
   "outputs": [
    {
     "name": "stdout",
     "output_type": "stream",
     "text": [
      "   Outlet.ID  storen_year  storen Inspection.Date        Time.of.Visit  \\\n",
      "0    2011001          127     374      2010-07-22  2015-10-28 11:05:00   \n",
      "1    2011002          347     928      2010-07-22  2015-10-28 10:58:00   \n",
      "2    2011003           21      88      2010-07-22  2015-10-28 10:47:00   \n",
      "3    2011004          177     499      2010-08-12  2015-10-28 12:48:00   \n",
      "4    2011006          161     456      2010-07-19  2015-10-28 15:45:00   \n",
      "\n",
      "   Investigator.ID.number Investigator.Name  Investigator.Age  Gender  \\\n",
      "0                       0                CW                15    Male   \n",
      "1                       0                AK                15  Female   \n",
      "2                       0                CW                15    Male   \n",
      "3                       0                AK                16  Female   \n",
      "4                       0                KK                16    Male   \n",
      "\n",
      "  Adults.Supervisor          ...           category2012 Age_asked2012  \\\n",
      "0      Ashley Moore          ...                    NaN           NaN   \n",
      "1      Ashley Moore          ...                    NaN           NaN   \n",
      "2      Ashley Moore          ...                    NaN           NaN   \n",
      "3      Ashley Moore          ...                    NaN           NaN   \n",
      "4   Nichalas Parker          ...                    NaN           NaN   \n",
      "\n",
      "  ID_requested2012 violation2013 ward2013 category2013 Age_asked2013  \\\n",
      "0              NaN           NaN      NaN          NaN           NaN   \n",
      "1              NaN           NaN      NaN          NaN           NaN   \n",
      "2              NaN           NaN      NaN          NaN           NaN   \n",
      "3              NaN           NaN      NaN          NaN           NaN   \n",
      "4              NaN           NaN      NaN          NaN           NaN   \n",
      "\n",
      "   ID_requested2013  Outlet_Street_name         Type_of_outlet  \n",
      "0               NaN                11th                 Market  \n",
      "1               NaN                11th  Carry Out/Convenience  \n",
      "2               NaN                11th          Grocery Store  \n",
      "3               NaN                11th  Carry Out/Convenience  \n",
      "4               NaN                14th  Carry Out/Convenience  \n",
      "\n",
      "[5 rows x 122 columns]\n"
     ]
    }
   ],
   "source": [
    "print synar.head()"
   ]
  },
  {
   "cell_type": "code",
   "execution_count": 33,
   "metadata": {
    "collapsed": false
   },
   "outputs": [
    {
     "name": "stdout",
     "output_type": "stream",
     "text": [
      "0    374\n",
      "1    928\n",
      "2     88\n",
      "3    499\n",
      "4    456\n",
      "Name: storen, dtype: int64\n"
     ]
    }
   ],
   "source": [
    "print synar.storen.head()"
   ]
  },
  {
   "cell_type": "markdown",
   "metadata": {},
   "source": [
    "## Mean for miles var"
   ]
  },
  {
   "cell_type": "code",
   "execution_count": 34,
   "metadata": {
    "collapsed": false
   },
   "outputs": [
    {
     "name": "stdout",
     "output_type": "stream",
     "text": [
      "Playground Proximity Mean: 0.496101498974\n",
      "Baseball Fields Mean: 0.535370555071\n",
      "Basketball Courts Mean: 0.552933953699\n",
      "Charter High School Mean: 1.27556083375\n",
      "Football Fields Mean: 2.31025637022\n",
      "Parks Mean: 0.528218912355\n",
      "Pool Spraypark Mean: 0.905640933548\n",
      "Private High School Mean: 1.263661571\n",
      "Public High School Mean: 0.959009104062\n",
      "Public Housing Maen: 0.761712795807\n",
      "Recreation Area Mean 0.451753952233\n",
      "Roadway Green Space Mean: 0.504504679679\n",
      "Soccer Fields Mean 1.8143427584\n",
      "Tennis Court Mean 0.60215585226\n",
      "Track Mean: 1.82742071997\n"
     ]
    }
   ],
   "source": [
    "print 'Playground Proximity Mean:', synar.playground_prox.mean() \n",
    "print 'Baseball Fields Mean:', synar.baseball_fields_prox.mean()\n",
    "print 'Basketball Courts Mean:', synar.basketball_courts_prox.mean()\n",
    "print 'Charter High School Mean:', synar.charter_high_school_prox.mean()\n",
    "print 'Football Fields Mean:', synar.football_fields_prox.mean()\n",
    "print 'Parks Mean:', synar.parks_prox.mean()\n",
    "print 'Pool Spraypark Mean:', synar.pool_spraypark_prox.mean()\n",
    "print 'Private High School Mean:', synar.private_high_school_prox.mean()\n",
    "print 'Public High School Mean:', synar.public_high_school_prox.mean() \n",
    "print 'Public Housing Maen:', synar.public_housing_prox.mean()\n",
    "print 'Recreation Area Mean', synar.recreation_area_prox.mean()\n",
    "print 'Roadway Green Space Mean:', synar.roadway_green_space_prox.mean() \n",
    "print 'Soccer Fields Mean', synar.soccer_fields_prox.mean()\n",
    "print 'Tennis Court Mean', synar.tennis_court_prox.mean()\n",
    "print 'Track Mean:', synar.track_prox.mean()    \n"
   ]
  },
  {
   "cell_type": "code",
   "execution_count": 35,
   "metadata": {
    "collapsed": false
   },
   "outputs": [
    {
     "name": "stdout",
     "output_type": "stream",
     "text": [
      "1247    365\n",
      "1248    632\n",
      "1249    988\n",
      "1250    197\n",
      "1251    521\n",
      "Name: storen, dtype: int64\n"
     ]
    }
   ],
   "source": [
    "print synar.storen.tail()"
   ]
  },
  {
   "cell_type": "markdown",
   "metadata": {},
   "source": [
    "## Mean for meter var"
   ]
  },
  {
   "cell_type": "code",
   "execution_count": 36,
   "metadata": {
    "collapsed": false
   },
   "outputs": [
    {
     "name": "stdout",
     "output_type": "stream",
     "text": [
      "Playground Proximity Mean: 735.182603764\n",
      "Baseball Fields Mean: 787.484171635\n",
      "Basketball Courts Mean: 778.040115048\n",
      "Charter High School Mean: 958.594836766\n",
      "Football Fields Mean: 1012.72364348\n",
      "Parks Mean: 752.54325983\n",
      "Pool Spraypark Mean: 970.682480828\n",
      "Private High School Mean: 985.287221285\n",
      "Public High School Mean: 978.363983848\n",
      "Public Housing Maen: 863.742638055\n",
      "Recreation Area Mean 660.941091596\n",
      "Roadway Green Space Mean: 703.073014085\n",
      "Soccer Fields Mean 988.989526225\n",
      "Tennis Court Mean 827.560366313\n",
      "Track Mean: 1045.35280152\n"
     ]
    }
   ],
   "source": [
    "print 'Playground Proximity Mean:', synar.m100playground.mean() *100\n",
    "print 'Baseball Fields Mean:', synar.m100baseball_fields.mean() *100\n",
    "print 'Basketball Courts Mean:', synar.m100basketball_courts.mean() *100\n",
    "print 'Charter High School Mean:', synar.m100charter_high_school.mean() *100\n",
    "print 'Football Fields Mean:', synar.m100football_fields.mean() *100\n",
    "print 'Parks Mean:', synar.m100parks.mean() *100\n",
    "print 'Pool Spraypark Mean:', synar.m100pool_spraypark.mean() *100\n",
    "print 'Private High School Mean:', synar.m100private_high_school.mean() *100\n",
    "print 'Public High School Mean:', synar.m100public_high_school.mean() *100\n",
    "print 'Public Housing Maen:', synar.m100public_housing.mean() *100\n",
    "print 'Recreation Area Mean', synar.m100recreation_area.mean() *100\n",
    "print 'Roadway Green Space Mean:', synar.m100roadway_green_space.mean() *100\n",
    "print 'Soccer Fields Mean', synar.m100soccer_fields.mean() *100\n",
    "print 'Tennis Court Mean', synar.m100tennis_court.mean() *100\n",
    "print 'Track Mean:', synar.m100track.mean() *100"
   ]
  },
  {
   "cell_type": "code",
   "execution_count": 37,
   "metadata": {
    "collapsed": false
   },
   "outputs": [
    {
     "name": "stdout",
     "output_type": "stream",
     "text": [
      "Playground Proximity SD: 360.008057381\n",
      "Baseball Fields SD: 349.527826447\n",
      "Basketball Courts SD: 370.802280355\n",
      "Charter High School SD: 381.296261379\n",
      "Football Fields SD: 387.552211701\n",
      "Parks SD: 389.754759316\n",
      "Pool Spraypark SD: 367.065304095\n",
      "Private High School SD: 359.95427303\n",
      "Public High School SD: 364.23365363\n",
      "Public Housing SD: 361.319232432\n",
      "Recreation Area SD 374.150370407\n",
      "Roadway Green Space SD: 384.818468359\n",
      "Soccer Fields SD: 354.127161833\n",
      "Tennis Court SD: 362.980553359\n",
      "Track SD: 350.11095851\n"
     ]
    }
   ],
   "source": [
    "print 'Playground Proximity SD:', synar.m100playground.std() *100\n",
    "print 'Baseball Fields SD:', synar.m100baseball_fields.std() *100\n",
    "print 'Basketball Courts SD:', synar.m100basketball_courts.std() *100\n",
    "print 'Charter High School SD:', synar.m100charter_high_school.std() *100\n",
    "print 'Football Fields SD:', synar.m100football_fields.std() *100\n",
    "print 'Parks SD:', synar.m100parks.std() *100\n",
    "print 'Pool Spraypark SD:', synar.m100pool_spraypark.std() *100\n",
    "print 'Private High School SD:', synar.m100private_high_school.std() *100\n",
    "print 'Public High School SD:', synar.m100public_high_school.std() *100\n",
    "print 'Public Housing SD:', synar.m100public_housing.std() *100\n",
    "print 'Recreation Area SD', synar.m100recreation_area.std() *100\n",
    "print 'Roadway Green Space SD:', synar.m100roadway_green_space.std() *100 \n",
    "print 'Soccer Fields SD:', synar.m100soccer_fields.std() *100\n",
    "print 'Tennis Court SD:', synar.m100tennis_court.std() *100\n",
    "print 'Track SD:', synar.m100track.std() *100"
   ]
  },
  {
   "cell_type": "markdown",
   "metadata": {},
   "source": [
    "## OLS LOGIT for mile variables "
   ]
  },
  {
   "cell_type": "markdown",
   "metadata": {},
   "source": [
    "## OLS LOGIT for meter variables "
   ]
  },
  {
   "cell_type": "code",
   "execution_count": 38,
   "metadata": {
    "collapsed": false
   },
   "outputs": [],
   "source": [
    "synar['Inspection_Date'] = synar['Inspection.Date'] "
   ]
  },
  {
   "cell_type": "markdown",
   "metadata": {},
   "source": [
    "## Inspection_Date - the year that should be used for time measurment "
   ]
  },
  {
   "cell_type": "code",
   "execution_count": 39,
   "metadata": {
    "collapsed": false
   },
   "outputs": [
    {
     "name": "stdout",
     "output_type": "stream",
     "text": [
      "2712-07-27\n"
     ]
    }
   ],
   "source": [
    "print synar.Inspection_Date.max()"
   ]
  },
  {
   "cell_type": "code",
   "execution_count": 40,
   "metadata": {
    "collapsed": false
   },
   "outputs": [
    {
     "name": "stdout",
     "output_type": "stream",
     "text": [
      "inf\n"
     ]
    }
   ],
   "source": [
    "print synar.Inspection_Date.min()"
   ]
  },
  {
   "cell_type": "code",
   "execution_count": 41,
   "metadata": {
    "collapsed": false
   },
   "outputs": [
    {
     "name": "stdout",
     "output_type": "stream",
     "text": [
      "0    2010-07-22\n",
      "1    2010-07-22\n",
      "2    2010-07-22\n",
      "3    2010-08-12\n",
      "4    2010-07-19\n",
      "Name: Inspection_Date, dtype: object\n"
     ]
    }
   ],
   "source": [
    "print synar.Inspection_Date.head()"
   ]
  },
  {
   "cell_type": "code",
   "execution_count": 42,
   "metadata": {
    "collapsed": false
   },
   "outputs": [
    {
     "name": "stdout",
     "output_type": "stream",
     "text": [
      "1247    2013-07-18\n",
      "1248    2013-07-18\n",
      "1249    2013-07-19\n",
      "1250    2013-07-25\n",
      "1251    2013-07-21\n",
      "Name: Inspection_Date, dtype: object\n"
     ]
    }
   ],
   "source": [
    "print synar.Inspection_Date.tail()"
   ]
  },
  {
   "cell_type": "code",
   "execution_count": 43,
   "metadata": {
    "collapsed": false
   },
   "outputs": [],
   "source": [
    "def canconvert(mydata):\n",
    "    try :\n",
    "        float(mydata)\n",
    "        return True\n",
    "    except ValueError:\n",
    "        return False\n",
    "    "
   ]
  },
  {
   "cell_type": "code",
   "execution_count": 44,
   "metadata": {
    "collapsed": false
   },
   "outputs": [
    {
     "data": {
      "text/plain": [
       "<matplotlib.figure.Figure at 0x107a2dc50>"
      ]
     },
     "execution_count": 44,
     "metadata": {},
     "output_type": "execute_result"
    },
    {
     "data": {
      "text/plain": [
       "<matplotlib.figure.Figure at 0x107a2dc50>"
      ]
     },
     "metadata": {},
     "output_type": "display_data"
    }
   ],
   "source": [
    "from pandas.tools.plotting import andrews_curves\n",
    "plt.figure()"
   ]
  },
  {
   "cell_type": "code",
   "execution_count": 45,
   "metadata": {
    "collapsed": false
   },
   "outputs": [],
   "source": [
    "df = pd.DataFrame(np.random.randn(1000, 4), columns=['parks_prox', 'baseball_fields_prox', 'pool_spraypark_prox', 'tennis_court_prox'])"
   ]
  },
  {
   "cell_type": "code",
   "execution_count": 46,
   "metadata": {
    "collapsed": true
   },
   "outputs": [],
   "source": [
    "from pandas.tools.plotting import scatter_matrix"
   ]
  },
  {
   "cell_type": "code",
   "execution_count": 52,
   "metadata": {
    "collapsed": false
   },
   "outputs": [
    {
     "data": {
      "text/plain": [
       "array([[<matplotlib.axes._subplots.AxesSubplot object at 0x108a54110>,\n",
       "        <matplotlib.axes._subplots.AxesSubplot object at 0x108db2110>,\n",
       "        <matplotlib.axes._subplots.AxesSubplot object at 0x10156a350>,\n",
       "        <matplotlib.axes._subplots.AxesSubplot object at 0x1015cdd10>],\n",
       "       [<matplotlib.axes._subplots.AxesSubplot object at 0x1093e9e50>,\n",
       "        <matplotlib.axes._subplots.AxesSubplot object at 0x108e42290>,\n",
       "        <matplotlib.axes._subplots.AxesSubplot object at 0x1094de650>,\n",
       "        <matplotlib.axes._subplots.AxesSubplot object at 0x109564290>],\n",
       "       [<matplotlib.axes._subplots.AxesSubplot object at 0x1095c8990>,\n",
       "        <matplotlib.axes._subplots.AxesSubplot object at 0x10964a6d0>,\n",
       "        <matplotlib.axes._subplots.AxesSubplot object at 0x1096b1250>,\n",
       "        <matplotlib.axes._subplots.AxesSubplot object at 0x109734290>],\n",
       "       [<matplotlib.axes._subplots.AxesSubplot object at 0x1097abe90>,\n",
       "        <matplotlib.axes._subplots.AxesSubplot object at 0x10981ab10>,\n",
       "        <matplotlib.axes._subplots.AxesSubplot object at 0x10989fa90>,\n",
       "        <matplotlib.axes._subplots.AxesSubplot object at 0x109905710>]], dtype=object)"
      ]
     },
     "execution_count": 52,
     "metadata": {},
     "output_type": "execute_result"
    },
    {
     "data": {
      "image/png": "[encoded data removed]",
      "text/plain": [
       "<matplotlib.figure.Figure at 0x107b4da90>"
      ]
     },
     "metadata": {},
     "output_type": "display_data"
    }
   ],
   "source": [
    "scatter_matrix(df, alpha=0.2, figsize=(6, 6), diagonal='kde')"
   ]
  },
  {
   "cell_type": "code",
   "execution_count": 53,
   "metadata": {
    "collapsed": true
   },
   "outputs": [],
   "source": [
    "mod = smf.ols(formula='violation ~ m100playground + m100baseball_fields', data = synar).fit()"
   ]
  },
  {
   "cell_type": "code",
   "execution_count": 54,
   "metadata": {
    "collapsed": false
   },
   "outputs": [
    {
     "data": {
      "text/plain": [
       "123"
      ]
     },
     "execution_count": 54,
     "metadata": {},
     "output_type": "execute_result"
    }
   ],
   "source": [
    "#no of columns\n",
    "len(synar.columns)"
   ]
  },
  {
   "cell_type": "code",
   "execution_count": 55,
   "metadata": {
    "collapsed": false
   },
   "outputs": [
    {
     "data": {
      "text/plain": [
       "1252"
      ]
     },
     "execution_count": 55,
     "metadata": {},
     "output_type": "execute_result"
    }
   ],
   "source": [
    "#no of rows \n",
    "len(synar.index)"
   ]
  },
  {
   "cell_type": "code",
   "execution_count": 56,
   "metadata": {
    "collapsed": false
   },
   "outputs": [],
   "source": [
    "\n",
    "\n",
    "#synar2 = pd.DataFrame(counts, columns = ['storen'])\n",
    "#synar2 = synar2[synar2.size>1]"
   ]
  },
  {
   "cell_type": "code",
   "execution_count": 57,
   "metadata": {
    "collapsed": true
   },
   "outputs": [],
   "source": [
    "synar['Type_of_outlet'] = synar['Type.of.outlet'] "
   ]
  },
  {
   "cell_type": "code",
   "execution_count": 58,
   "metadata": {
    "collapsed": false
   },
   "outputs": [
    {
     "name": "stdout",
     "output_type": "stream",
     "text": [
      "0    Market\n",
      "Name: Type_of_outlet, dtype: object\n"
     ]
    }
   ],
   "source": [
    "print synar.Type_of_outlet.head(1)"
   ]
  },
  {
   "cell_type": "code",
   "execution_count": 59,
   "metadata": {
    "collapsed": false
   },
   "outputs": [
    {
     "data": {
      "text/plain": [
       "array(['Market', 'Carry Out/Convenience', 'Grocery Store', 'Gas Station',\n",
       "       'Liquor Store', 'Bar/Lounge', 'Drug Store/Pharmacy', 'Restaurant',\n",
       "       'Gift Shop', 'Other', 'Deli', nan, 'Cigar Shop', 'Outlet',\n",
       "       'Record Store', 'Pool Bar', 'Hookah Bar', 'Hotel', 'Cigar Lounge',\n",
       "       'Discount Mart', 'Pool Hall', 'Tobacco Shop', 'Tobacco Store'], dtype=object)"
      ]
     },
     "execution_count": 59,
     "metadata": {},
     "output_type": "execute_result"
    }
   ],
   "source": [
    "pd.unique(synar.Type_of_outlet.ravel())"
   ]
  },
  {
   "cell_type": "code",
   "execution_count": 60,
   "metadata": {
    "collapsed": false
   },
   "outputs": [],
   "source": [
    "synar['Liquor']= 1*(synar['Type_of_outlet']=='Liquor Store') "
   ]
  },
  {
   "cell_type": "code",
   "execution_count": 61,
   "metadata": {
    "collapsed": false
   },
   "outputs": [],
   "source": [
    "synar['convin']= 1*(synar['Type_of_outlet']=='Carry Out/Convenience') "
   ]
  },
  {
   "cell_type": "markdown",
   "metadata": {},
   "source": [
    "## fix the mass retailer and resturant -bar categories- not & but OR (roght now it's a zero array) "
   ]
  },
  {
   "cell_type": "code",
   "execution_count": 62,
   "metadata": {
    "collapsed": false
   },
   "outputs": [
    {
     "data": {
      "text/html": [
       "<div>\n",
       "<table border=\"1\" class=\"dataframe\">\n",
       "  <thead>\n",
       "    <tr style=\"text-align: right;\">\n",
       "      <th></th>\n",
       "      <th>Outlet.ID</th>\n",
       "      <th>storen_year</th>\n",
       "      <th>storen</th>\n",
       "      <th>Inspection.Date</th>\n",
       "      <th>Time.of.Visit</th>\n",
       "      <th>Investigator.ID.number</th>\n",
       "      <th>Investigator.Name</th>\n",
       "      <th>Investigator.Age</th>\n",
       "      <th>Gender</th>\n",
       "      <th>Adults.Supervisor</th>\n",
       "      <th>...</th>\n",
       "      <th>violation2013</th>\n",
       "      <th>ward2013</th>\n",
       "      <th>category2013</th>\n",
       "      <th>Age_asked2013</th>\n",
       "      <th>ID_requested2013</th>\n",
       "      <th>Outlet_Street_name</th>\n",
       "      <th>Type_of_outlet</th>\n",
       "      <th>Inspection_Date</th>\n",
       "      <th>Liquor</th>\n",
       "      <th>convin</th>\n",
       "    </tr>\n",
       "  </thead>\n",
       "  <tbody>\n",
       "    <tr>\n",
       "      <th>0</th>\n",
       "      <td>2011001</td>\n",
       "      <td>127</td>\n",
       "      <td>374</td>\n",
       "      <td>2010-07-22</td>\n",
       "      <td>2015-10-28 11:05:00</td>\n",
       "      <td>0</td>\n",
       "      <td>CW</td>\n",
       "      <td>15</td>\n",
       "      <td>Male</td>\n",
       "      <td>Ashley Moore</td>\n",
       "      <td>...</td>\n",
       "      <td>NaN</td>\n",
       "      <td>NaN</td>\n",
       "      <td>NaN</td>\n",
       "      <td>NaN</td>\n",
       "      <td>NaN</td>\n",
       "      <td>11th</td>\n",
       "      <td>Market</td>\n",
       "      <td>2010-07-22</td>\n",
       "      <td>0</td>\n",
       "      <td>0</td>\n",
       "    </tr>\n",
       "    <tr>\n",
       "      <th>1</th>\n",
       "      <td>2011002</td>\n",
       "      <td>347</td>\n",
       "      <td>928</td>\n",
       "      <td>2010-07-22</td>\n",
       "      <td>2015-10-28 10:58:00</td>\n",
       "      <td>0</td>\n",
       "      <td>AK</td>\n",
       "      <td>15</td>\n",
       "      <td>Female</td>\n",
       "      <td>Ashley Moore</td>\n",
       "      <td>...</td>\n",
       "      <td>NaN</td>\n",
       "      <td>NaN</td>\n",
       "      <td>NaN</td>\n",
       "      <td>NaN</td>\n",
       "      <td>NaN</td>\n",
       "      <td>11th</td>\n",
       "      <td>Carry Out/Convenience</td>\n",
       "      <td>2010-07-22</td>\n",
       "      <td>0</td>\n",
       "      <td>1</td>\n",
       "    </tr>\n",
       "    <tr>\n",
       "      <th>2</th>\n",
       "      <td>2011003</td>\n",
       "      <td>21</td>\n",
       "      <td>88</td>\n",
       "      <td>2010-07-22</td>\n",
       "      <td>2015-10-28 10:47:00</td>\n",
       "      <td>0</td>\n",
       "      <td>CW</td>\n",
       "      <td>15</td>\n",
       "      <td>Male</td>\n",
       "      <td>Ashley Moore</td>\n",
       "      <td>...</td>\n",
       "      <td>NaN</td>\n",
       "      <td>NaN</td>\n",
       "      <td>NaN</td>\n",
       "      <td>NaN</td>\n",
       "      <td>NaN</td>\n",
       "      <td>11th</td>\n",
       "      <td>Grocery Store</td>\n",
       "      <td>2010-07-22</td>\n",
       "      <td>0</td>\n",
       "      <td>0</td>\n",
       "    </tr>\n",
       "    <tr>\n",
       "      <th>3</th>\n",
       "      <td>2011004</td>\n",
       "      <td>177</td>\n",
       "      <td>499</td>\n",
       "      <td>2010-08-12</td>\n",
       "      <td>2015-10-28 12:48:00</td>\n",
       "      <td>0</td>\n",
       "      <td>AK</td>\n",
       "      <td>16</td>\n",
       "      <td>Female</td>\n",
       "      <td>Ashley Moore</td>\n",
       "      <td>...</td>\n",
       "      <td>NaN</td>\n",
       "      <td>NaN</td>\n",
       "      <td>NaN</td>\n",
       "      <td>NaN</td>\n",
       "      <td>NaN</td>\n",
       "      <td>11th</td>\n",
       "      <td>Carry Out/Convenience</td>\n",
       "      <td>2010-08-12</td>\n",
       "      <td>0</td>\n",
       "      <td>1</td>\n",
       "    </tr>\n",
       "    <tr>\n",
       "      <th>4</th>\n",
       "      <td>2011006</td>\n",
       "      <td>161</td>\n",
       "      <td>456</td>\n",
       "      <td>2010-07-19</td>\n",
       "      <td>2015-10-28 15:45:00</td>\n",
       "      <td>0</td>\n",
       "      <td>KK</td>\n",
       "      <td>16</td>\n",
       "      <td>Male</td>\n",
       "      <td>Nichalas Parker</td>\n",
       "      <td>...</td>\n",
       "      <td>NaN</td>\n",
       "      <td>NaN</td>\n",
       "      <td>NaN</td>\n",
       "      <td>NaN</td>\n",
       "      <td>NaN</td>\n",
       "      <td>14th</td>\n",
       "      <td>Carry Out/Convenience</td>\n",
       "      <td>2010-07-19</td>\n",
       "      <td>0</td>\n",
       "      <td>1</td>\n",
       "    </tr>\n",
       "  </tbody>\n",
       "</table>\n",
       "<p>5 rows × 125 columns</p>\n",
       "</div>"
      ],
      "text/plain": [
       "   Outlet.ID  storen_year  storen Inspection.Date        Time.of.Visit  \\\n",
       "0    2011001          127     374      2010-07-22  2015-10-28 11:05:00   \n",
       "1    2011002          347     928      2010-07-22  2015-10-28 10:58:00   \n",
       "2    2011003           21      88      2010-07-22  2015-10-28 10:47:00   \n",
       "3    2011004          177     499      2010-08-12  2015-10-28 12:48:00   \n",
       "4    2011006          161     456      2010-07-19  2015-10-28 15:45:00   \n",
       "\n",
       "   Investigator.ID.number Investigator.Name  Investigator.Age  Gender  \\\n",
       "0                       0                CW                15    Male   \n",
       "1                       0                AK                15  Female   \n",
       "2                       0                CW                15    Male   \n",
       "3                       0                AK                16  Female   \n",
       "4                       0                KK                16    Male   \n",
       "\n",
       "  Adults.Supervisor   ...   violation2013 ward2013 category2013 Age_asked2013  \\\n",
       "0      Ashley Moore   ...             NaN      NaN          NaN           NaN   \n",
       "1      Ashley Moore   ...             NaN      NaN          NaN           NaN   \n",
       "2      Ashley Moore   ...             NaN      NaN          NaN           NaN   \n",
       "3      Ashley Moore   ...             NaN      NaN          NaN           NaN   \n",
       "4   Nichalas Parker   ...             NaN      NaN          NaN           NaN   \n",
       "\n",
       "  ID_requested2013 Outlet_Street_name         Type_of_outlet  Inspection_Date  \\\n",
       "0              NaN               11th                 Market       2010-07-22   \n",
       "1              NaN               11th  Carry Out/Convenience       2010-07-22   \n",
       "2              NaN               11th          Grocery Store       2010-07-22   \n",
       "3              NaN               11th  Carry Out/Convenience       2010-08-12   \n",
       "4              NaN               14th  Carry Out/Convenience       2010-07-19   \n",
       "\n",
       "   Liquor  convin  \n",
       "0       0       0  \n",
       "1       0       1  \n",
       "2       0       0  \n",
       "3       0       1  \n",
       "4       0       1  \n",
       "\n",
       "[5 rows x 125 columns]"
      ]
     },
     "execution_count": 62,
     "metadata": {},
     "output_type": "execute_result"
    }
   ],
   "source": [
    "synar.head()"
   ]
  },
  {
   "cell_type": "code",
   "execution_count": 139,
   "metadata": {
    "collapsed": false
   },
   "outputs": [
    {
     "data": {
      "text/html": [
       "<div>\n",
       "<table border=\"1\" class=\"dataframe\">\n",
       "  <thead>\n",
       "    <tr style=\"text-align: right;\">\n",
       "      <th></th>\n",
       "      <th>Outlet.ID</th>\n",
       "      <th>storen_year</th>\n",
       "      <th>storen</th>\n",
       "      <th>Inspection.Date</th>\n",
       "      <th>Time.of.Visit</th>\n",
       "      <th>Investigator.ID.number</th>\n",
       "      <th>Investigator.Name</th>\n",
       "      <th>Investigator.Age</th>\n",
       "      <th>Gender</th>\n",
       "      <th>Adults.Supervisor</th>\n",
       "      <th>...</th>\n",
       "      <th>Outlet_Street_name</th>\n",
       "      <th>Type_of_outlet</th>\n",
       "      <th>Inspection_Date</th>\n",
       "      <th>Liquor</th>\n",
       "      <th>convin</th>\n",
       "      <th>grocery</th>\n",
       "      <th>GasStation</th>\n",
       "      <th>Mass_retailer</th>\n",
       "      <th>resturant_bar</th>\n",
       "      <th>resturant_bar1</th>\n",
       "    </tr>\n",
       "  </thead>\n",
       "  <tbody>\n",
       "    <tr>\n",
       "      <th>60</th>\n",
       "      <td>2011069</td>\n",
       "      <td>287</td>\n",
       "      <td>786</td>\n",
       "      <td>2010-07-22</td>\n",
       "      <td>2015-10-28 14:37:00</td>\n",
       "      <td>0</td>\n",
       "      <td>JG</td>\n",
       "      <td>16</td>\n",
       "      <td>Male</td>\n",
       "      <td>Nichalas Parker</td>\n",
       "      <td>...</td>\n",
       "      <td>15th</td>\n",
       "      <td>Restaurant</td>\n",
       "      <td>2010-07-22</td>\n",
       "      <td>0</td>\n",
       "      <td>0</td>\n",
       "      <td>0</td>\n",
       "      <td>0</td>\n",
       "      <td>0</td>\n",
       "      <td>1</td>\n",
       "      <td>1</td>\n",
       "    </tr>\n",
       "    <tr>\n",
       "      <th>95</th>\n",
       "      <td>2011107</td>\n",
       "      <td>176</td>\n",
       "      <td>495</td>\n",
       "      <td>2010-07-26</td>\n",
       "      <td>2015-10-28 11:41:00</td>\n",
       "      <td>0</td>\n",
       "      <td>DW</td>\n",
       "      <td>17</td>\n",
       "      <td>Male</td>\n",
       "      <td>Nichalas Parker</td>\n",
       "      <td>...</td>\n",
       "      <td>K</td>\n",
       "      <td>Deli</td>\n",
       "      <td>2010-07-26</td>\n",
       "      <td>0</td>\n",
       "      <td>0</td>\n",
       "      <td>0</td>\n",
       "      <td>0</td>\n",
       "      <td>0</td>\n",
       "      <td>1</td>\n",
       "      <td>1</td>\n",
       "    </tr>\n",
       "    <tr>\n",
       "      <th>105</th>\n",
       "      <td>2011117</td>\n",
       "      <td>72</td>\n",
       "      <td>229</td>\n",
       "      <td>2010-07-23</td>\n",
       "      <td>2015-10-28 15:35:00</td>\n",
       "      <td>0</td>\n",
       "      <td>JQ</td>\n",
       "      <td>17</td>\n",
       "      <td>Female</td>\n",
       "      <td>Nichalas Parker</td>\n",
       "      <td>...</td>\n",
       "      <td>M</td>\n",
       "      <td>Restaurant</td>\n",
       "      <td>2010-07-23</td>\n",
       "      <td>0</td>\n",
       "      <td>0</td>\n",
       "      <td>0</td>\n",
       "      <td>0</td>\n",
       "      <td>0</td>\n",
       "      <td>1</td>\n",
       "      <td>1</td>\n",
       "    </tr>\n",
       "    <tr>\n",
       "      <th>176</th>\n",
       "      <td>2011194</td>\n",
       "      <td>250</td>\n",
       "      <td>690</td>\n",
       "      <td>2010-07-26</td>\n",
       "      <td>2015-10-28 11:17:00</td>\n",
       "      <td>0</td>\n",
       "      <td>KW</td>\n",
       "      <td>15</td>\n",
       "      <td>Female</td>\n",
       "      <td>Ashley Moore</td>\n",
       "      <td>...</td>\n",
       "      <td>Georgia Avenue</td>\n",
       "      <td>Deli</td>\n",
       "      <td>2010-07-26</td>\n",
       "      <td>0</td>\n",
       "      <td>0</td>\n",
       "      <td>0</td>\n",
       "      <td>0</td>\n",
       "      <td>0</td>\n",
       "      <td>1</td>\n",
       "      <td>1</td>\n",
       "    </tr>\n",
       "    <tr>\n",
       "      <th>183</th>\n",
       "      <td>2011201</td>\n",
       "      <td>295</td>\n",
       "      <td>812</td>\n",
       "      <td>2010-07-26</td>\n",
       "      <td>2015-10-28 15:03:00</td>\n",
       "      <td>0</td>\n",
       "      <td>TO</td>\n",
       "      <td>17</td>\n",
       "      <td>Male</td>\n",
       "      <td>Ashley Moore</td>\n",
       "      <td>...</td>\n",
       "      <td>Georgia Avenue</td>\n",
       "      <td>Restaurant</td>\n",
       "      <td>2010-07-26</td>\n",
       "      <td>0</td>\n",
       "      <td>0</td>\n",
       "      <td>0</td>\n",
       "      <td>0</td>\n",
       "      <td>0</td>\n",
       "      <td>1</td>\n",
       "      <td>1</td>\n",
       "    </tr>\n",
       "    <tr>\n",
       "      <th>205</th>\n",
       "      <td>2011224</td>\n",
       "      <td>276</td>\n",
       "      <td>752</td>\n",
       "      <td>2010-07-26</td>\n",
       "      <td>2015-10-28 15:24:00</td>\n",
       "      <td>0</td>\n",
       "      <td>JQ</td>\n",
       "      <td>17</td>\n",
       "      <td>Female</td>\n",
       "      <td>Nichalas Parker</td>\n",
       "      <td>...</td>\n",
       "      <td>12th</td>\n",
       "      <td>Restaurant</td>\n",
       "      <td>2010-07-26</td>\n",
       "      <td>0</td>\n",
       "      <td>0</td>\n",
       "      <td>0</td>\n",
       "      <td>0</td>\n",
       "      <td>0</td>\n",
       "      <td>1</td>\n",
       "      <td>1</td>\n",
       "    </tr>\n",
       "    <tr>\n",
       "      <th>312</th>\n",
       "      <td>2011337</td>\n",
       "      <td>54</td>\n",
       "      <td>181</td>\n",
       "      <td>2010-07-30</td>\n",
       "      <td>2015-10-28 11:43:00</td>\n",
       "      <td>0</td>\n",
       "      <td>SR</td>\n",
       "      <td>16</td>\n",
       "      <td>Female</td>\n",
       "      <td>Nichalas Parker</td>\n",
       "      <td>...</td>\n",
       "      <td>Pennsylvania Avenue</td>\n",
       "      <td>Restaurant</td>\n",
       "      <td>2010-07-30</td>\n",
       "      <td>0</td>\n",
       "      <td>0</td>\n",
       "      <td>0</td>\n",
       "      <td>0</td>\n",
       "      <td>0</td>\n",
       "      <td>1</td>\n",
       "      <td>1</td>\n",
       "    </tr>\n",
       "    <tr>\n",
       "      <th>411</th>\n",
       "      <td>2012023</td>\n",
       "      <td>430</td>\n",
       "      <td>105</td>\n",
       "      <td>2011-08-09</td>\n",
       "      <td>2015-10-28 15:35:00</td>\n",
       "      <td>0</td>\n",
       "      <td>TW</td>\n",
       "      <td>15</td>\n",
       "      <td>Male</td>\n",
       "      <td>Jasmine Quande</td>\n",
       "      <td>...</td>\n",
       "      <td>Columbia Road</td>\n",
       "      <td>Pool Bar</td>\n",
       "      <td>2011-08-09</td>\n",
       "      <td>0</td>\n",
       "      <td>0</td>\n",
       "      <td>0</td>\n",
       "      <td>0</td>\n",
       "      <td>0</td>\n",
       "      <td>1</td>\n",
       "      <td>1</td>\n",
       "    </tr>\n",
       "    <tr>\n",
       "      <th>417</th>\n",
       "      <td>2012029</td>\n",
       "      <td>425</td>\n",
       "      <td>87</td>\n",
       "      <td>2011-08-10</td>\n",
       "      <td>2015-10-28 02:54:00</td>\n",
       "      <td>0</td>\n",
       "      <td>AE</td>\n",
       "      <td>15</td>\n",
       "      <td>Male</td>\n",
       "      <td>Jasmine Quande</td>\n",
       "      <td>...</td>\n",
       "      <td>Connecticut Avenue</td>\n",
       "      <td>Pool Bar</td>\n",
       "      <td>2011-08-10</td>\n",
       "      <td>0</td>\n",
       "      <td>0</td>\n",
       "      <td>0</td>\n",
       "      <td>0</td>\n",
       "      <td>0</td>\n",
       "      <td>1</td>\n",
       "      <td>1</td>\n",
       "    </tr>\n",
       "    <tr>\n",
       "      <th>421</th>\n",
       "      <td>2012033</td>\n",
       "      <td>417</td>\n",
       "      <td>68</td>\n",
       "      <td>2011-08-10</td>\n",
       "      <td>2015-10-28 15:37:00</td>\n",
       "      <td>0</td>\n",
       "      <td>AE</td>\n",
       "      <td>15</td>\n",
       "      <td>Male</td>\n",
       "      <td>Jasmine Quande</td>\n",
       "      <td>...</td>\n",
       "      <td>Florida Avenue</td>\n",
       "      <td>Hookah Bar</td>\n",
       "      <td>2011-08-10</td>\n",
       "      <td>0</td>\n",
       "      <td>0</td>\n",
       "      <td>0</td>\n",
       "      <td>0</td>\n",
       "      <td>0</td>\n",
       "      <td>1</td>\n",
       "      <td>1</td>\n",
       "    </tr>\n",
       "    <tr>\n",
       "      <th>472</th>\n",
       "      <td>2012084</td>\n",
       "      <td>647</td>\n",
       "      <td>747</td>\n",
       "      <td>2011-08-09</td>\n",
       "      <td>2015-10-28 12:03:00</td>\n",
       "      <td>0</td>\n",
       "      <td>JG</td>\n",
       "      <td>17</td>\n",
       "      <td>Male</td>\n",
       "      <td>Deonte Williams</td>\n",
       "      <td>...</td>\n",
       "      <td>Connecticut Avenue</td>\n",
       "      <td>Restaurant</td>\n",
       "      <td>2011-08-09</td>\n",
       "      <td>0</td>\n",
       "      <td>0</td>\n",
       "      <td>0</td>\n",
       "      <td>0</td>\n",
       "      <td>0</td>\n",
       "      <td>1</td>\n",
       "      <td>1</td>\n",
       "    </tr>\n",
       "    <tr>\n",
       "      <th>569</th>\n",
       "      <td>2012187</td>\n",
       "      <td>719</td>\n",
       "      <td>960</td>\n",
       "      <td>2011-08-19</td>\n",
       "      <td>2015-10-28 14:45:00</td>\n",
       "      <td>0</td>\n",
       "      <td>DJ</td>\n",
       "      <td>15</td>\n",
       "      <td>Female</td>\n",
       "      <td>Deonte Williams</td>\n",
       "      <td>...</td>\n",
       "      <td>Georgia Avenue</td>\n",
       "      <td>Restaurant</td>\n",
       "      <td>2011-08-19</td>\n",
       "      <td>0</td>\n",
       "      <td>0</td>\n",
       "      <td>0</td>\n",
       "      <td>0</td>\n",
       "      <td>0</td>\n",
       "      <td>1</td>\n",
       "      <td>1</td>\n",
       "    </tr>\n",
       "    <tr>\n",
       "      <th>574</th>\n",
       "      <td>2012192</td>\n",
       "      <td>660</td>\n",
       "      <td>776</td>\n",
       "      <td>2011-08-19</td>\n",
       "      <td>2015-10-28 14:53:00</td>\n",
       "      <td>0</td>\n",
       "      <td>DJ</td>\n",
       "      <td>15</td>\n",
       "      <td>Female</td>\n",
       "      <td>Deonte Williams</td>\n",
       "      <td>...</td>\n",
       "      <td>Georgia Avenue</td>\n",
       "      <td>Restaurant</td>\n",
       "      <td>2011-08-19</td>\n",
       "      <td>0</td>\n",
       "      <td>0</td>\n",
       "      <td>0</td>\n",
       "      <td>0</td>\n",
       "      <td>0</td>\n",
       "      <td>1</td>\n",
       "      <td>1</td>\n",
       "    </tr>\n",
       "    <tr>\n",
       "      <th>586</th>\n",
       "      <td>2012204</td>\n",
       "      <td>649</td>\n",
       "      <td>751</td>\n",
       "      <td>2011-08-17</td>\n",
       "      <td>2015-10-28 11:39:00</td>\n",
       "      <td>0</td>\n",
       "      <td>KK</td>\n",
       "      <td>17</td>\n",
       "      <td>Male</td>\n",
       "      <td>Deonte Williams</td>\n",
       "      <td>...</td>\n",
       "      <td>12th</td>\n",
       "      <td>Restaurant</td>\n",
       "      <td>2011-08-17</td>\n",
       "      <td>0</td>\n",
       "      <td>0</td>\n",
       "      <td>0</td>\n",
       "      <td>0</td>\n",
       "      <td>0</td>\n",
       "      <td>1</td>\n",
       "      <td>1</td>\n",
       "    </tr>\n",
       "    <tr>\n",
       "      <th>811</th>\n",
       "      <td>2013058</td>\n",
       "      <td>849</td>\n",
       "      <td>495</td>\n",
       "      <td>2012-07-24</td>\n",
       "      <td>2015-10-28 12:02:00</td>\n",
       "      <td>0</td>\n",
       "      <td>LE</td>\n",
       "      <td>16</td>\n",
       "      <td>Female</td>\n",
       "      <td>Jasmine Quander</td>\n",
       "      <td>...</td>\n",
       "      <td>K</td>\n",
       "      <td>Deli</td>\n",
       "      <td>2012-07-24</td>\n",
       "      <td>0</td>\n",
       "      <td>0</td>\n",
       "      <td>0</td>\n",
       "      <td>0</td>\n",
       "      <td>0</td>\n",
       "      <td>1</td>\n",
       "      <td>1</td>\n",
       "    </tr>\n",
       "    <tr>\n",
       "      <th>813</th>\n",
       "      <td>2013060</td>\n",
       "      <td>858</td>\n",
       "      <td>564</td>\n",
       "      <td>2012-07-24</td>\n",
       "      <td>2015-10-28 11:55:00</td>\n",
       "      <td>0</td>\n",
       "      <td>LE</td>\n",
       "      <td>16</td>\n",
       "      <td>Female</td>\n",
       "      <td>Jasmine Quander</td>\n",
       "      <td>...</td>\n",
       "      <td>L</td>\n",
       "      <td>Deli</td>\n",
       "      <td>2012-07-24</td>\n",
       "      <td>0</td>\n",
       "      <td>0</td>\n",
       "      <td>0</td>\n",
       "      <td>0</td>\n",
       "      <td>0</td>\n",
       "      <td>1</td>\n",
       "      <td>1</td>\n",
       "    </tr>\n",
       "  </tbody>\n",
       "</table>\n",
       "<p>16 rows × 130 columns</p>\n",
       "</div>"
      ],
      "text/plain": [
       "     Outlet.ID  storen_year  storen Inspection.Date        Time.of.Visit  \\\n",
       "60     2011069          287     786      2010-07-22  2015-10-28 14:37:00   \n",
       "95     2011107          176     495      2010-07-26  2015-10-28 11:41:00   \n",
       "105    2011117           72     229      2010-07-23  2015-10-28 15:35:00   \n",
       "176    2011194          250     690      2010-07-26  2015-10-28 11:17:00   \n",
       "183    2011201          295     812      2010-07-26  2015-10-28 15:03:00   \n",
       "205    2011224          276     752      2010-07-26  2015-10-28 15:24:00   \n",
       "312    2011337           54     181      2010-07-30  2015-10-28 11:43:00   \n",
       "411    2012023          430     105      2011-08-09  2015-10-28 15:35:00   \n",
       "417    2012029          425      87      2011-08-10  2015-10-28 02:54:00   \n",
       "421    2012033          417      68      2011-08-10  2015-10-28 15:37:00   \n",
       "472    2012084          647     747      2011-08-09  2015-10-28 12:03:00   \n",
       "569    2012187          719     960      2011-08-19  2015-10-28 14:45:00   \n",
       "574    2012192          660     776      2011-08-19  2015-10-28 14:53:00   \n",
       "586    2012204          649     751      2011-08-17  2015-10-28 11:39:00   \n",
       "811    2013058          849     495      2012-07-24  2015-10-28 12:02:00   \n",
       "813    2013060          858     564      2012-07-24  2015-10-28 11:55:00   \n",
       "\n",
       "     Investigator.ID.number Investigator.Name  Investigator.Age  Gender  \\\n",
       "60                        0                JG                16    Male   \n",
       "95                        0                DW                17    Male   \n",
       "105                       0                JQ                17  Female   \n",
       "176                       0                KW                15  Female   \n",
       "183                       0                TO                17    Male   \n",
       "205                       0                JQ                17  Female   \n",
       "312                       0                SR                16  Female   \n",
       "411                       0                TW                15    Male   \n",
       "417                       0                AE                15    Male   \n",
       "421                       0                AE                15    Male   \n",
       "472                       0                JG                17    Male   \n",
       "569                       0                DJ                15  Female   \n",
       "574                       0                DJ                15  Female   \n",
       "586                       0                KK                17    Male   \n",
       "811                       0                LE                16  Female   \n",
       "813                       0                LE                16  Female   \n",
       "\n",
       "    Adults.Supervisor       ...         Outlet_Street_name Type_of_outlet  \\\n",
       "60    Nichalas Parker       ...                       15th     Restaurant   \n",
       "95    Nichalas Parker       ...                          K           Deli   \n",
       "105   Nichalas Parker       ...                          M     Restaurant   \n",
       "176      Ashley Moore       ...             Georgia Avenue           Deli   \n",
       "183      Ashley Moore       ...             Georgia Avenue     Restaurant   \n",
       "205   Nichalas Parker       ...                       12th     Restaurant   \n",
       "312   Nichalas Parker       ...        Pennsylvania Avenue     Restaurant   \n",
       "411    Jasmine Quande       ...              Columbia Road       Pool Bar   \n",
       "417    Jasmine Quande       ...         Connecticut Avenue       Pool Bar   \n",
       "421    Jasmine Quande       ...             Florida Avenue     Hookah Bar   \n",
       "472   Deonte Williams       ...         Connecticut Avenue     Restaurant   \n",
       "569   Deonte Williams       ...             Georgia Avenue     Restaurant   \n",
       "574   Deonte Williams       ...             Georgia Avenue     Restaurant   \n",
       "586   Deonte Williams       ...                       12th     Restaurant   \n",
       "811   Jasmine Quander       ...                          K           Deli   \n",
       "813   Jasmine Quander       ...                          L           Deli   \n",
       "\n",
       "    Inspection_Date Liquor convin grocery GasStation  Mass_retailer  \\\n",
       "60       2010-07-22      0      0       0          0              0   \n",
       "95       2010-07-26      0      0       0          0              0   \n",
       "105      2010-07-23      0      0       0          0              0   \n",
       "176      2010-07-26      0      0       0          0              0   \n",
       "183      2010-07-26      0      0       0          0              0   \n",
       "205      2010-07-26      0      0       0          0              0   \n",
       "312      2010-07-30      0      0       0          0              0   \n",
       "411      2011-08-09      0      0       0          0              0   \n",
       "417      2011-08-10      0      0       0          0              0   \n",
       "421      2011-08-10      0      0       0          0              0   \n",
       "472      2011-08-09      0      0       0          0              0   \n",
       "569      2011-08-19      0      0       0          0              0   \n",
       "574      2011-08-19      0      0       0          0              0   \n",
       "586      2011-08-17      0      0       0          0              0   \n",
       "811      2012-07-24      0      0       0          0              0   \n",
       "813      2012-07-24      0      0       0          0              0   \n",
       "\n",
       "     resturant_bar  resturant_bar1  \n",
       "60               1               1  \n",
       "95               1               1  \n",
       "105              1               1  \n",
       "176              1               1  \n",
       "183              1               1  \n",
       "205              1               1  \n",
       "312              1               1  \n",
       "411              1               1  \n",
       "417              1               1  \n",
       "421              1               1  \n",
       "472              1               1  \n",
       "569              1               1  \n",
       "574              1               1  \n",
       "586              1               1  \n",
       "811              1               1  \n",
       "813              1               1  \n",
       "\n",
       "[16 rows x 130 columns]"
      ]
     },
     "execution_count": 139,
     "metadata": {},
     "output_type": "execute_result"
    }
   ],
   "source": [
    "synar['grocery']= 1*(synar['Type_of_outlet']=='Grocery Store') \n",
    "synar['GasStation']= 1*(synar['Type_of_outlet']=='Gas Station')\n",
    "synar['Mass_retailer'] = np.zeros(len(synar['Type_of_outlet']))\n",
    "synar['Mass_retailer'] = 1*(synar['Type_of_outlet'].isin(('Cigar Shop','Record Store','Gift Shop')))\n",
    "synar[synar['Mass_retailer']==1]\n",
    "synar['resturant_bar1'] = 1*(synar['Type_of_outlet'].isin(('Hookah Bar','Restaurant','Pool Bar','Deli')))\n",
    "synar[synar['resturant_bar1']==1]\n"
   ]
  },
  {
   "cell_type": "code",
   "execution_count": 103,
   "metadata": {
    "collapsed": false
   },
   "outputs": [],
   "source": [
    "outletposse_merged = pd.merge(synar, census, how='inner', on=['GEO_ID'])\n"
   ]
  },
  {
   "cell_type": "code",
   "execution_count": 104,
   "metadata": {
    "collapsed": false
   },
   "outputs": [],
   "source": [
    "outletposse_merged2 = pd.merge(outletposse_merged, outletposse, how='inner', on=['matchaddr'])"
   ]
  },
  {
   "cell_type": "markdown",
   "metadata": {},
   "source": [
    "## logit for   violation and  mass retailer"
   ]
  },
  {
   "cell_type": "code",
   "execution_count": 67,
   "metadata": {
    "collapsed": false
   },
   "outputs": [],
   "source": [
    "\n",
    "#mod4 = smf.logit(formula='violation ~ Mass_retailer', data = synar).fit()"
   ]
  },
  {
   "cell_type": "markdown",
   "metadata": {},
   "source": [
    "array(['Market', 'Carry Out/Convenience', 'Grocery Store', 'Gas Station',\n",
    "       'Liquor Store', 'Bar/Lounge', 'Drug Store/Pharmacy', 'Restaurant',\n",
    "       'Gift Shop', 'Other', 'Deli', nan, 'Cigar Shop', 'Outlet',\n",
    "       'Record Store', 'Pool Bar', 'Hookah Bar', 'Hotel', 'Cigar Lounge',\n",
    "       'Discount Mart', 'Pool Hall', 'Tobacco Shop', 'Tobacco Store'], dtype=object)"
   ]
  },
  {
   "cell_type": "code",
   "execution_count": 68,
   "metadata": {
    "collapsed": false
   },
   "outputs": [],
   "source": [
    "#print np.exp(mod4.params)"
   ]
  },
  {
   "cell_type": "markdown",
   "metadata": {},
   "source": [
    "## logit for violation and grocery "
   ]
  },
  {
   "cell_type": "code",
   "execution_count": 69,
   "metadata": {
    "collapsed": false
   },
   "outputs": [
    {
     "name": "stdout",
     "output_type": "stream",
     "text": [
      "Optimization terminated successfully.\n",
      "         Current function value: 0.328058\n",
      "         Iterations 6\n",
      "                           Logit Regression Results                           \n",
      "==============================================================================\n",
      "Dep. Variable:              violation   No. Observations:                 1252\n",
      "Model:                          Logit   Df Residuals:                     1250\n",
      "Method:                           MLE   Df Model:                            1\n",
      "Date:                Wed, 10 Feb 2016   Pseudo R-squ.:               0.0005251\n",
      "Time:                        12:36:43   Log-Likelihood:                -410.73\n",
      "converged:                       True   LL-Null:                       -410.94\n",
      "                                        LLR p-value:                    0.5112\n",
      "==============================================================================\n",
      "                 coef    std err          z      P>|z|      [95.0% Conf. Int.]\n",
      "------------------------------------------------------------------------------\n",
      "Intercept     -2.1676      0.096    -22.680      0.000        -2.355    -1.980\n",
      "grocery       -0.3005      0.475     -0.632      0.527        -1.232     0.631\n",
      "==============================================================================\n"
     ]
    }
   ],
   "source": [
    "\n",
    "mod3 = smf.logit(formula='violation ~ grocery', data = synar).fit()\n",
    "print(mod3.summary())"
   ]
  },
  {
   "cell_type": "markdown",
   "metadata": {},
   "source": [
    "# odds ratio"
   ]
  },
  {
   "cell_type": "code",
   "execution_count": 70,
   "metadata": {
    "collapsed": false
   },
   "outputs": [
    {
     "name": "stdout",
     "output_type": "stream",
     "text": [
      "Intercept    0.114447\n",
      "grocery      0.740483\n",
      "dtype: float64\n"
     ]
    }
   ],
   "source": [
    "\n",
    "print np.exp(mod3.params)"
   ]
  },
  {
   "cell_type": "markdown",
   "metadata": {},
   "source": [
    "## logit for violation and gas station"
   ]
  },
  {
   "cell_type": "code",
   "execution_count": 71,
   "metadata": {
    "collapsed": false,
    "scrolled": true
   },
   "outputs": [
    {
     "name": "stdout",
     "output_type": "stream",
     "text": [
      "Optimization terminated successfully.\n",
      "         Current function value: 0.325961\n",
      "         Iterations 6\n",
      "                           Logit Regression Results                           \n",
      "==============================================================================\n",
      "Dep. Variable:              violation   No. Observations:                 1252\n",
      "Model:                          Logit   Df Residuals:                     1250\n",
      "Method:                           MLE   Df Model:                            1\n",
      "Date:                Wed, 10 Feb 2016   Pseudo R-squ.:                0.006914\n",
      "Time:                        12:36:46   Log-Likelihood:                -408.10\n",
      "converged:                       True   LL-Null:                       -410.94\n",
      "                                        LLR p-value:                   0.01713\n",
      "==============================================================================\n",
      "                 coef    std err          z      P>|z|      [95.0% Conf. Int.]\n",
      "------------------------------------------------------------------------------\n",
      "Intercept     -2.2667      0.103    -22.109      0.000        -2.468    -2.066\n",
      "GasStation     0.6393      0.255      2.509      0.012         0.140     1.139\n",
      "==============================================================================\n"
     ]
    }
   ],
   "source": [
    "mod2 = smf.logit(formula='violation ~ GasStation', data = synar).fit()\n",
    "print(mod2.summary())"
   ]
  },
  {
   "cell_type": "code",
   "execution_count": 72,
   "metadata": {
    "collapsed": false
   },
   "outputs": [
    {
     "name": "stdout",
     "output_type": "stream",
     "text": [
      "Intercept     0.103653\n",
      "GasStation    1.895068\n",
      "dtype: float64\n"
     ]
    }
   ],
   "source": [
    "print np.exp(mod2.params)"
   ]
  },
  {
   "cell_type": "markdown",
   "metadata": {},
   "source": [
    "## logit for violation and convinient store"
   ]
  },
  {
   "cell_type": "code",
   "execution_count": 74,
   "metadata": {
    "collapsed": false
   },
   "outputs": [
    {
     "name": "stdout",
     "output_type": "stream",
     "text": [
      "Optimization terminated successfully.\n",
      "         Current function value: 0.328208\n",
      "         Iterations 6\n",
      "Intercept    0.115607\n",
      "convin       0.956353\n",
      "dtype: float64\n",
      "                           Logit Regression Results                           \n",
      "==============================================================================\n",
      "Dep. Variable:              violation   No. Observations:                 1252\n",
      "Model:                          Logit   Df Residuals:                     1250\n",
      "Method:                           MLE   Df Model:                            1\n",
      "Date:                Wed, 10 Feb 2016   Pseudo R-squ.:               6.885e-05\n",
      "Time:                        12:37:13   Log-Likelihood:                -410.92\n",
      "converged:                       True   LL-Null:                       -410.94\n",
      "                                        LLR p-value:                    0.8120\n",
      "==============================================================================\n",
      "                 coef    std err          z      P>|z|      [95.0% Conf. Int.]\n",
      "------------------------------------------------------------------------------\n",
      "Intercept     -2.1576      0.136    -15.823      0.000        -2.425    -1.890\n",
      "convin        -0.0446      0.188     -0.238      0.812        -0.412     0.323\n",
      "==============================================================================\n"
     ]
    }
   ],
   "source": [
    "mod1 = smf.logit(formula='violation ~ convin', data = synar).fit()\n",
    "print np.exp(mod1.params)\n",
    "print(mod1.summary())"
   ]
  },
  {
   "cell_type": "markdown",
   "metadata": {},
   "source": [
    "## logit violation and liquor"
   ]
  },
  {
   "cell_type": "code",
   "execution_count": 77,
   "metadata": {
    "collapsed": false
   },
   "outputs": [
    {
     "name": "stdout",
     "output_type": "stream",
     "text": [
      "Optimization terminated successfully.\n",
      "         Current function value: 0.325827\n",
      "         Iterations 7\n",
      "                           Logit Regression Results                           \n",
      "==============================================================================\n",
      "Dep. Variable:              violation   No. Observations:                 1252\n",
      "Model:                          Logit   Df Residuals:                     1250\n",
      "Method:                           MLE   Df Model:                            1\n",
      "Date:                Wed, 10 Feb 2016   Pseudo R-squ.:                0.007321\n",
      "Time:                        12:37:25   Log-Likelihood:                -407.94\n",
      "converged:                       True   LL-Null:                       -410.94\n",
      "                                        LLR p-value:                   0.01417\n",
      "==============================================================================\n",
      "                 coef    std err          z      P>|z|      [95.0% Conf. Int.]\n",
      "------------------------------------------------------------------------------\n",
      "Intercept     -2.0817      0.100    -20.865      0.000        -2.277    -1.886\n",
      "Liquor        -0.6684      0.293     -2.280      0.023        -1.243    -0.094\n",
      "==============================================================================\n",
      "Intercept    0.124724\n",
      "Liquor       0.512547\n",
      "dtype: float64\n"
     ]
    }
   ],
   "source": [
    "\n",
    "mod = smf.logit(formula='violation ~ Liquor', data = synar).fit()\n",
    "print(mod.summary())\n",
    "print np.exp(mod.params)"
   ]
  },
  {
   "cell_type": "markdown",
   "metadata": {},
   "source": [
    "## 2010 regressions "
   ]
  },
  {
   "cell_type": "markdown",
   "metadata": {},
   "source": [
    "violation 2010 and liquor "
   ]
  },
  {
   "cell_type": "code",
   "execution_count": 80,
   "metadata": {
    "collapsed": false
   },
   "outputs": [
    {
     "name": "stdout",
     "output_type": "stream",
     "text": [
      "Optimization terminated successfully.\n",
      "         Current function value: 0.411834\n",
      "         Iterations 7\n",
      "\n",
      "                           Logit Regression Results                           \n",
      "==============================================================================\n",
      "Dep. Variable:          violation2010   No. Observations:                  357\n",
      "Model:                          Logit   Df Residuals:                      355\n",
      "Method:                           MLE   Df Model:                            1\n",
      "Date:                Wed, 10 Feb 2016   Pseudo R-squ.:                 0.01951\n",
      "Time:                        12:38:02   Log-Likelihood:                -147.02\n",
      "converged:                       True   LL-Null:                       -149.95\n",
      "                                        LLR p-value:                   0.01558\n",
      "==============================================================================\n",
      "                 coef    std err          z      P>|z|      [95.0% Conf. Int.]\n",
      "------------------------------------------------------------------------------\n",
      "Intercept     -1.5841      0.158     -9.998      0.000        -1.895    -1.274\n",
      "Liquor        -1.0549      0.489     -2.156      0.031        -2.014    -0.096\n",
      "==============================================================================\n",
      "Intercept    0.205128\n",
      "Liquor       0.348214\n",
      "dtype: float64\n"
     ]
    }
   ],
   "source": [
    "\n",
    "logit_mod = smf.logit('violation2010 ~ Liquor', data = outletposse_merged2).fit()\n",
    "print\n",
    "print(logit_mod.summary())\n",
    "print np.exp(logit_mod.params)"
   ]
  },
  {
   "cell_type": "markdown",
   "metadata": {},
   "source": [
    "violation 2010 and grocery "
   ]
  },
  {
   "cell_type": "code",
   "execution_count": 82,
   "metadata": {
    "collapsed": false
   },
   "outputs": [
    {
     "name": "stdout",
     "output_type": "stream",
     "text": [
      "Optimization terminated successfully.\n",
      "         Current function value: 0.415615\n",
      "         Iterations 7\n",
      "\n",
      "                           Logit Regression Results                           \n",
      "==============================================================================\n",
      "Dep. Variable:          violation2010   No. Observations:                  357\n",
      "Model:                          Logit   Df Residuals:                      355\n",
      "Method:                           MLE   Df Model:                            1\n",
      "Date:                Wed, 10 Feb 2016   Pseudo R-squ.:                 0.01951\n",
      "Time:                        12:38:12   Log-Likelihood:                -147.02\n",
      "converged:                       True   LL-Null:                       -149.95\n",
      "                                        LLR p-value:                   0.01558\n",
      "==============================================================================\n",
      "                 coef    std err          z      P>|z|      [95.0% Conf. Int.]\n",
      "------------------------------------------------------------------------------\n",
      "Intercept     -1.5841      0.158     -9.998      0.000        -1.895    -1.274\n",
      "Liquor        -1.0549      0.489     -2.156      0.031        -2.014    -0.096\n",
      "==============================================================================\n",
      "Intercept    0.188192\n",
      "grocery      0.322044\n",
      "dtype: float64\n"
     ]
    }
   ],
   "source": [
    "logit_mod1 = smf.logit('violation2010 ~ grocery', data = outletposse_merged2).fit()\n",
    "print\n",
    "print(logit_mod.summary())\n",
    "print np.exp(logit_mod1.params)"
   ]
  },
  {
   "cell_type": "code",
   "execution_count": null,
   "metadata": {
    "collapsed": false
   },
   "outputs": [],
   "source": [
    "#pd.unique(outletposse_merged2.Mass_retailer)"
   ]
  },
  {
   "cell_type": "code",
   "execution_count": null,
   "metadata": {
    "collapsed": false
   },
   "outputs": [],
   "source": [
    "# mass retailer - apears as all zeros... ?>\n",
    "\n",
    "#logit_mod2 = smf.logit('violation2011 ~ Mass_retailer', data = outletposse_merged2).fit()"
   ]
  },
  {
   "cell_type": "markdown",
   "metadata": {},
   "source": [
    "violation 2010 and gas station "
   ]
  },
  {
   "cell_type": "code",
   "execution_count": 85,
   "metadata": {
    "collapsed": false
   },
   "outputs": [
    {
     "name": "stdout",
     "output_type": "stream",
     "text": [
      "Optimization terminated successfully.\n",
      "         Current function value: 0.412118\n",
      "         Iterations 6\n",
      "                           Logit Regression Results                           \n",
      "==============================================================================\n",
      "Dep. Variable:          violation2010   No. Observations:                  357\n",
      "Model:                          Logit   Df Residuals:                      355\n",
      "Method:                           MLE   Df Model:                            1\n",
      "Date:                Wed, 10 Feb 2016   Pseudo R-squ.:                 0.01883\n",
      "Time:                        12:38:24   Log-Likelihood:                -147.13\n",
      "converged:                       True   LL-Null:                       -149.95\n",
      "                                        LLR p-value:                   0.01748\n",
      "==============================================================================\n",
      "                 coef    std err          z      P>|z|      [95.0% Conf. Int.]\n",
      "------------------------------------------------------------------------------\n",
      "Intercept     -1.8959      0.167    -11.319      0.000        -2.224    -1.568\n",
      "GasStation     0.9468      0.379      2.498      0.012         0.204     1.690\n",
      "==============================================================================\n",
      "Intercept     0.150183\n",
      "GasStation    2.577498\n",
      "dtype: float64\n",
      "Intercept     0.150183\n",
      "GasStation    2.577498\n",
      "dtype: float64\n"
     ]
    }
   ],
   "source": [
    "logit_mod2 = smf.logit(formula='violation2010 ~ GasStation', data = outletposse_merged2).fit()\n",
    "print(logit_mod2.summary())\n",
    "print np.exp(logit_mod2.params)\n",
    "print np.exp(logit_mod2.params)"
   ]
  },
  {
   "cell_type": "markdown",
   "metadata": {},
   "source": [
    "vioaltion 2010 convininent "
   ]
  },
  {
   "cell_type": "code",
   "execution_count": 86,
   "metadata": {
    "collapsed": false
   },
   "outputs": [
    {
     "name": "stdout",
     "output_type": "stream",
     "text": [
      "Optimization terminated successfully.\n",
      "         Current function value: 0.418853\n",
      "         Iterations 6\n",
      "                           Logit Regression Results                           \n",
      "==============================================================================\n",
      "Dep. Variable:          violation2010   No. Observations:                  357\n",
      "Model:                          Logit   Df Residuals:                      355\n",
      "Method:                           MLE   Df Model:                            1\n",
      "Date:                Wed, 10 Feb 2016   Pseudo R-squ.:                0.002796\n",
      "Time:                        12:38:27   Log-Likelihood:                -149.53\n",
      "converged:                       True   LL-Null:                       -149.95\n",
      "                                        LLR p-value:                    0.3598\n",
      "==============================================================================\n",
      "                 coef    std err          z      P>|z|      [95.0% Conf. Int.]\n",
      "------------------------------------------------------------------------------\n",
      "Intercept     -1.6280      0.193     -8.420      0.000        -2.007    -1.249\n",
      "convin        -0.2762      0.303     -0.910      0.363        -0.871     0.319\n",
      "==============================================================================\n",
      "Intercept    0.196319\n",
      "convin       0.758644\n",
      "dtype: float64\n"
     ]
    }
   ],
   "source": [
    "logit_mod3 = smf.logit(formula='violation2010 ~ convin', data = outletposse_merged2).fit()\n",
    "print(logit_mod3.summary())\n",
    "print np.exp(logit_mod3.params)\n"
   ]
  },
  {
   "cell_type": "code",
   "execution_count": 97,
   "metadata": {
    "collapsed": false
   },
   "outputs": [
    {
     "name": "stdout",
     "output_type": "stream",
     "text": [
      "Optimization terminated successfully.\n",
      "         Current function value: 0.420006\n",
      "         Iterations 6\n",
      "                           Logit Regression Results                           \n",
      "==============================================================================\n",
      "Dep. Variable:          violation2010   No. Observations:                  357\n",
      "Model:                          Logit   Df Residuals:                      355\n",
      "Method:                           MLE   Df Model:                            1\n",
      "Date:                Wed, 10 Feb 2016   Pseudo R-squ.:               5.169e-05\n",
      "Time:                        12:49:20   Log-Likelihood:                -149.94\n",
      "converged:                       True   LL-Null:                       -149.95\n",
      "                                        LLR p-value:                    0.9009\n",
      "=================================================================================\n",
      "                    coef    std err          z      P>|z|      [95.0% Conf. Int.]\n",
      "---------------------------------------------------------------------------------\n",
      "Intercept        -1.7492      0.150    -11.642      0.000        -2.044    -1.455\n",
      "Mass_retailer     0.1398      1.106      0.126      0.899        -2.027     2.307\n",
      "=================================================================================\n",
      "Intercept        0.173913\n",
      "Mass_retailer    1.150000\n",
      "dtype: float64\n"
     ]
    }
   ],
   "source": [
    "logit_mod = smf.logit(formula='violation2010 ~ Mass_retailer', data = outletposse_merged2).fit()\n",
    "print(logit_mod.summary())\n",
    "print np.exp(logit_mod.params)"
   ]
  },
  {
   "cell_type": "code",
   "execution_count": 109,
   "metadata": {
    "collapsed": false
   },
   "outputs": [
    {
     "name": "stdout",
     "output_type": "stream",
     "text": [
      "Optimization terminated successfully.\n",
      "         Current function value: 0.420006\n",
      "         Iterations 6\n",
      "                           Logit Regression Results                           \n",
      "==============================================================================\n",
      "Dep. Variable:          violation2010   No. Observations:                  357\n",
      "Model:                          Logit   Df Residuals:                      355\n",
      "Method:                           MLE   Df Model:                            1\n",
      "Date:                Wed, 10 Feb 2016   Pseudo R-squ.:               5.169e-05\n",
      "Time:                        12:53:05   Log-Likelihood:                -149.94\n",
      "converged:                       True   LL-Null:                       -149.95\n",
      "                                        LLR p-value:                    0.9009\n",
      "==================================================================================\n",
      "                     coef    std err          z      P>|z|      [95.0% Conf. Int.]\n",
      "----------------------------------------------------------------------------------\n",
      "Intercept         -1.7492      0.150    -11.642      0.000        -2.044    -1.455\n",
      "resturant_bar1     0.1398      1.106      0.126      0.899        -2.027     2.307\n",
      "==================================================================================\n",
      "Intercept         0.173913\n",
      "resturant_bar1    1.150000\n",
      "dtype: float64\n"
     ]
    }
   ],
   "source": [
    "logit_mod121 = smf.logit(formula='violation2010 ~ resturant_bar1', data = outletposse_merged2).fit()\n",
    "print(logit_mod121.summary())\n",
    "print np.exp(logit_mod121.params)"
   ]
  },
  {
   "cell_type": "markdown",
   "metadata": {},
   "source": [
    "violation 2010 and 56% african American pop "
   ]
  },
  {
   "cell_type": "code",
   "execution_count": 111,
   "metadata": {
    "collapsed": false
   },
   "outputs": [
    {
     "name": "stdout",
     "output_type": "stream",
     "text": [
      "Optimization terminated successfully.\n",
      "         Current function value: 0.420020\n",
      "         Iterations 6\n",
      "\n",
      "                           Logit Regression Results                           \n",
      "==============================================================================\n",
      "Dep. Variable:          violation2010   No. Observations:                  357\n",
      "Model:                          Logit   Df Residuals:                      355\n",
      "Method:                           MLE   Df Model:                            1\n",
      "Date:                Wed, 10 Feb 2016   Pseudo R-squ.:               1.814e-05\n",
      "Time:                        12:58:32   Log-Likelihood:                -149.95\n",
      "converged:                       True   LL-Null:                       -149.95\n",
      "                                        LLR p-value:                    0.9412\n",
      "=====================================================================================\n",
      "                        coef    std err          z      P>|z|      [95.0% Conf. Int.]\n",
      "-------------------------------------------------------------------------------------\n",
      "Intercept            -1.7567      0.201     -8.736      0.000        -2.151    -1.363\n",
      "black_prec_binary     0.0221      0.299      0.074      0.941        -0.564     0.608\n",
      "=====================================================================================\n",
      "Intercept            0.172619\n",
      "black_prec_binary    1.022312\n",
      "dtype: float64\n",
      "Intercept            0.172619\n",
      "black_prec_binary    1.022312\n",
      "dtype: float64\n"
     ]
    }
   ],
   "source": [
    "logit_mod4 = smf.logit('violation2010 ~ black_prec_binary', data = outletposse_merged2).fit()\n",
    "print\n",
    "print(logit_mod4.summary())\n",
    "print np.exp(logit_mod4.params)\n",
    "print np.exp(logit_mod4.params)\n"
   ]
  },
  {
   "cell_type": "markdown",
   "metadata": {},
   "source": [
    "## 2011"
   ]
  },
  {
   "cell_type": "markdown",
   "metadata": {},
   "source": [
    "violation 2011 and liquor "
   ]
  },
  {
   "cell_type": "code",
   "execution_count": 112,
   "metadata": {
    "collapsed": false
   },
   "outputs": [
    {
     "name": "stdout",
     "output_type": "stream",
     "text": [
      "Optimization terminated successfully.\n",
      "         Current function value: 0.235588\n",
      "         Iterations 8\n",
      "\n",
      "                           Logit Regression Results                           \n",
      "==============================================================================\n",
      "Dep. Variable:          violation2011   No. Observations:                  354\n",
      "Model:                          Logit   Df Residuals:                      352\n",
      "Method:                           MLE   Df Model:                            1\n",
      "Date:                Wed, 10 Feb 2016   Pseudo R-squ.:                 0.02015\n",
      "Time:                        12:58:40   Log-Likelihood:                -83.398\n",
      "converged:                       True   LL-Null:                       -85.114\n",
      "                                        LLR p-value:                   0.06399\n",
      "==============================================================================\n",
      "                 coef    std err          z      P>|z|      [95.0% Conf. Int.]\n",
      "------------------------------------------------------------------------------\n",
      "Intercept     -2.5221      0.222    -11.382      0.000        -2.956    -2.088\n",
      "Liquor        -1.5210      1.033     -1.473      0.141        -3.545     0.503\n",
      "==============================================================================\n",
      "Intercept    0.080292\n",
      "Liquor       0.218501\n",
      "dtype: float64\n"
     ]
    }
   ],
   "source": [
    "logit_mod11 = smf.logit('violation2011 ~ Liquor', data = outletposse_merged2).fit()\n",
    "print\n",
    "print(logit_mod11.summary())\n",
    "print np.exp(logit_mod11.params)\n"
   ]
  },
  {
   "cell_type": "markdown",
   "metadata": {},
   "source": [
    "violation 2011 and convinient store "
   ]
  },
  {
   "cell_type": "code",
   "execution_count": 113,
   "metadata": {
    "collapsed": false
   },
   "outputs": [
    {
     "name": "stdout",
     "output_type": "stream",
     "text": [
      "Optimization terminated successfully.\n",
      "         Current function value: 0.239972\n",
      "         Iterations 7\n",
      "\n",
      "                           Logit Regression Results                           \n",
      "==============================================================================\n",
      "Dep. Variable:          violation2011   No. Observations:                  354\n",
      "Model:                          Logit   Df Residuals:                      352\n",
      "Method:                           MLE   Df Model:                            1\n",
      "Date:                Wed, 10 Feb 2016   Pseudo R-squ.:                0.001922\n",
      "Time:                        12:58:52   Log-Likelihood:                -84.950\n",
      "converged:                       True   LL-Null:                       -85.114\n",
      "                                        LLR p-value:                    0.5674\n",
      "==============================================================================\n",
      "                 coef    std err          z      P>|z|      [95.0% Conf. Int.]\n",
      "------------------------------------------------------------------------------\n",
      "Intercept     -2.8258      0.364     -7.766      0.000        -3.539    -2.113\n",
      "convin         0.2558      0.452      0.566      0.571        -0.630     1.141\n",
      "==============================================================================\n",
      "Intercept    0.059259\n",
      "convin       1.291454\n",
      "dtype: float64\n"
     ]
    }
   ],
   "source": [
    "logit_mod12 = smf.logit('violation2011 ~ convin', data = outletposse_merged2).fit()\n",
    "print\n",
    "print(logit_mod12.summary())\n",
    "print np.exp(logit_mod12.params)"
   ]
  },
  {
   "cell_type": "markdown",
   "metadata": {},
   "source": [
    "violation 2011 and grocery"
   ]
  },
  {
   "cell_type": "code",
   "execution_count": 159,
   "metadata": {
    "collapsed": false
   },
   "outputs": [
    {
     "name": "stdout",
     "output_type": "stream",
     "text": [
      "Warning: Maximum number of iterations has been exceeded.\n",
      "         Current function value: 0.239478\n",
      "         Iterations: 35\n",
      "\n",
      "                           Logit Regression Results                           \n",
      "==============================================================================\n",
      "Dep. Variable:          violation2011   No. Observations:                  354\n",
      "Model:                          Logit   Df Residuals:                      352\n",
      "Method:                           MLE   Df Model:                            1\n",
      "Date:                Wed, 10 Feb 2016   Pseudo R-squ.:                0.003976\n",
      "Time:                        14:20:40   Log-Likelihood:                -84.775\n",
      "converged:                      False   LL-Null:                       -85.114\n",
      "                                        LLR p-value:                    0.4107\n",
      "==============================================================================\n",
      "                 coef    std err          z      P>|z|      [95.0% Conf. Int.]\n",
      "------------------------------------------------------------------------------\n",
      "Intercept     -2.6514      0.216    -12.290      0.000        -3.074    -2.229\n",
      "grocery      -25.2921   5.23e+05  -4.84e-05      1.000     -1.02e+06  1.02e+06\n",
      "==============================================================================\n",
      "Intercept    7.055215e-02\n",
      "grocery      1.036974e-11\n",
      "dtype: float64\n"
     ]
    },
    {
     "name": "stderr",
     "output_type": "stream",
     "text": [
      "/usr/local/lib/python2.7/site-packages/statsmodels/base/model.py:466: ConvergenceWarning: Maximum Likelihood optimization failed to converge. Check mle_retvals\n",
      "  \"Check mle_retvals\", ConvergenceWarning)\n"
     ]
    }
   ],
   "source": [
    "logit_mod13 = smf.logit('violation2011 ~ grocery', data = outletposse_merged2).fit()\n",
    "print\n",
    "print(logit_mod13.summary())\n",
    "print np.exp(logit_mod13.params)"
   ]
  },
  {
   "cell_type": "markdown",
   "metadata": {},
   "source": [
    "violation 2011 and gas station "
   ]
  },
  {
   "cell_type": "code",
   "execution_count": 115,
   "metadata": {
    "collapsed": false
   },
   "outputs": [
    {
     "name": "stdout",
     "output_type": "stream",
     "text": [
      "Optimization terminated successfully.\n",
      "         Current function value: 0.236111\n",
      "         Iterations 7\n",
      "\n",
      "                           Logit Regression Results                           \n",
      "==============================================================================\n",
      "Dep. Variable:          violation2011   No. Observations:                  354\n",
      "Model:                          Logit   Df Residuals:                      352\n",
      "Method:                           MLE   Df Model:                            1\n",
      "Date:                Wed, 10 Feb 2016   Pseudo R-squ.:                 0.01798\n",
      "Time:                        12:59:02   Log-Likelihood:                -83.583\n",
      "converged:                       True   LL-Null:                       -85.114\n",
      "                                        LLR p-value:                   0.08020\n",
      "==============================================================================\n",
      "                 coef    std err          z      P>|z|      [95.0% Conf. Int.]\n",
      "------------------------------------------------------------------------------\n",
      "Intercept     -2.8167      0.243    -11.608      0.000        -3.292    -2.341\n",
      "GasStation     1.0250      0.541      1.896      0.058        -0.035     2.084\n",
      "==============================================================================\n",
      "Intercept     0.059801\n",
      "GasStation    2.787037\n",
      "dtype: float64\n"
     ]
    }
   ],
   "source": [
    "logit_mod14 = smf.logit('violation2011 ~ GasStation', data = outletposse_merged2).fit()\n",
    "print\n",
    "print(logit_mod14.summary())\n",
    "print np.exp(logit_mod14.params)"
   ]
  },
  {
   "cell_type": "markdown",
   "metadata": {},
   "source": [
    "violation 2011 and African American 56%"
   ]
  },
  {
   "cell_type": "code",
   "execution_count": 118,
   "metadata": {
    "collapsed": false
   },
   "outputs": [
    {
     "name": "stdout",
     "output_type": "stream",
     "text": [
      "Optimization terminated successfully.\n",
      "         Current function value: 0.240415\n",
      "         Iterations 7\n",
      "\n",
      "                           Logit Regression Results                           \n",
      "==============================================================================\n",
      "Dep. Variable:          violation2011   No. Observations:                  354\n",
      "Model:                          Logit   Df Residuals:                      352\n",
      "Method:                           MLE   Df Model:                            1\n",
      "Date:                Wed, 10 Feb 2016   Pseudo R-squ.:               7.807e-05\n",
      "Time:                        12:59:20   Log-Likelihood:                -85.107\n",
      "converged:                       True   LL-Null:                       -85.114\n",
      "                                        LLR p-value:                    0.9082\n",
      "=====================================================================================\n",
      "                        coef    std err          z      P>|z|      [95.0% Conf. Int.]\n",
      "-------------------------------------------------------------------------------------\n",
      "Intercept            -2.6445      0.287     -9.213      0.000        -3.207    -2.082\n",
      "black_prec_binary    -0.0501      0.435     -0.115      0.908        -0.902     0.802\n",
      "=====================================================================================\n",
      "Intercept            0.071038\n",
      "black_prec_binary    0.951143\n",
      "dtype: float64\n"
     ]
    }
   ],
   "source": [
    "logit_mod15 = smf.logit('violation2011 ~ black_prec_binary', data = outletposse_merged2).fit()\n",
    "print\n",
    "print(logit_mod15.summary())\n",
    "print np.exp(logit_mod15.params)"
   ]
  },
  {
   "cell_type": "code",
   "execution_count": 119,
   "metadata": {
    "collapsed": false
   },
   "outputs": [
    {
     "name": "stdout",
     "output_type": "stream",
     "text": [
      "Warning: Maximum number of iterations has been exceeded.\n",
      "         Current function value: 0.239478\n",
      "         Iterations: 35\n",
      "\n",
      "                           Logit Regression Results                           \n",
      "==============================================================================\n",
      "Dep. Variable:          violation2011   No. Observations:                  354\n",
      "Model:                          Logit   Df Residuals:                      352\n",
      "Method:                           MLE   Df Model:                            1\n",
      "Date:                Wed, 10 Feb 2016   Pseudo R-squ.:                0.003976\n",
      "Time:                        12:59:45   Log-Likelihood:                -84.775\n",
      "converged:                      False   LL-Null:                       -85.114\n",
      "                                        LLR p-value:                    0.4107\n",
      "=================================================================================\n",
      "                    coef    std err          z      P>|z|      [95.0% Conf. Int.]\n",
      "---------------------------------------------------------------------------------\n",
      "Intercept        -2.6514      0.216    -12.290      0.000        -3.074    -2.229\n",
      "Mass_retailer   -25.2921   5.23e+05  -4.84e-05      1.000     -1.02e+06  1.02e+06\n",
      "=================================================================================\n",
      "Intercept        7.055215e-02\n",
      "Mass_retailer    1.036974e-11\n",
      "dtype: float64\n"
     ]
    },
    {
     "name": "stderr",
     "output_type": "stream",
     "text": [
      "/usr/local/lib/python2.7/site-packages/statsmodels/base/model.py:466: ConvergenceWarning: Maximum Likelihood optimization failed to converge. Check mle_retvals\n",
      "  \"Check mle_retvals\", ConvergenceWarning)\n"
     ]
    }
   ],
   "source": [
    "logit_mod151 = smf.logit('violation2011 ~ Mass_retailer', data = outletposse_merged2).fit()\n",
    "print\n",
    "print(logit_mod151.summary())\n",
    "print np.exp(logit_mod151.params)"
   ]
  },
  {
   "cell_type": "code",
   "execution_count": 120,
   "metadata": {
    "collapsed": false
   },
   "outputs": [
    {
     "name": "stdout",
     "output_type": "stream",
     "text": [
      "Warning: Maximum number of iterations has been exceeded.\n",
      "         Current function value: 0.239285\n",
      "         Iterations: 35\n",
      "\n",
      "                           Logit Regression Results                           \n",
      "==============================================================================\n",
      "Dep. Variable:          violation2011   No. Observations:                  354\n",
      "Model:                          Logit   Df Residuals:                      352\n",
      "Method:                           MLE   Df Model:                            1\n",
      "Date:                Wed, 10 Feb 2016   Pseudo R-squ.:                0.004778\n",
      "Time:                        13:00:27   Log-Likelihood:                -84.707\n",
      "converged:                      False   LL-Null:                       -85.114\n",
      "                                        LLR p-value:                    0.3671\n",
      "=================================================================================\n",
      "                    coef    std err          z      P>|z|      [95.0% Conf. Int.]\n",
      "---------------------------------------------------------------------------------\n",
      "Intercept        -2.6483      0.216    -12.274      0.000        -3.071    -2.225\n",
      "resturant_bar   -22.1040   9.68e+04     -0.000      1.000      -1.9e+05   1.9e+05\n",
      "=================================================================================\n",
      "Intercept        7.076923e-02\n",
      "resturant_bar    2.514030e-10\n",
      "dtype: float64\n"
     ]
    },
    {
     "name": "stderr",
     "output_type": "stream",
     "text": [
      "/usr/local/lib/python2.7/site-packages/statsmodels/base/model.py:466: ConvergenceWarning: Maximum Likelihood optimization failed to converge. Check mle_retvals\n",
      "  \"Check mle_retvals\", ConvergenceWarning)\n"
     ]
    }
   ],
   "source": [
    "logit_mod515 = smf.logit('violation2011 ~ resturant_bar', data = outletposse_merged2).fit()\n",
    "print\n",
    "print(logit_mod515.summary())\n",
    "print np.exp(logit_mod515.params)"
   ]
  },
  {
   "cell_type": "markdown",
   "metadata": {},
   "source": [
    "## 2012"
   ]
  },
  {
   "cell_type": "markdown",
   "metadata": {},
   "source": [
    "violation 2012 and liqour"
   ]
  },
  {
   "cell_type": "code",
   "execution_count": 121,
   "metadata": {
    "collapsed": false
   },
   "outputs": [
    {
     "name": "stdout",
     "output_type": "stream",
     "text": [
      "Optimization terminated successfully.\n",
      "         Current function value: 0.282470\n",
      "         Iterations 6\n",
      "\n",
      "                           Logit Regression Results                           \n",
      "==============================================================================\n",
      "Dep. Variable:          violation2012   No. Observations:                  184\n",
      "Model:                          Logit   Df Residuals:                      182\n",
      "Method:                           MLE   Df Model:                            1\n",
      "Date:                Wed, 10 Feb 2016   Pseudo R-squ.:               1.157e-06\n",
      "Time:                        13:00:55   Log-Likelihood:                -51.974\n",
      "converged:                       True   LL-Null:                       -51.975\n",
      "                                        LLR p-value:                    0.9913\n",
      "==============================================================================\n",
      "                 coef    std err          z      P>|z|      [95.0% Conf. Int.]\n",
      "------------------------------------------------------------------------------\n",
      "Intercept     -2.4204      0.301     -8.035      0.000        -3.011    -1.830\n",
      "Liquor        -0.0074      0.673     -0.011      0.991        -1.327     1.312\n",
      "==============================================================================\n",
      "Intercept    0.088889\n",
      "Liquor       0.992647\n",
      "dtype: float64\n"
     ]
    }
   ],
   "source": [
    "logit_mod16 = smf.logit('violation2012 ~ Liquor', data = outletposse_merged2).fit()\n",
    "print\n",
    "print(logit_mod16.summary())\n",
    "print np.exp(logit_mod16.params)"
   ]
  },
  {
   "cell_type": "markdown",
   "metadata": {},
   "source": [
    "violation 2012 and convinient "
   ]
  },
  {
   "cell_type": "code",
   "execution_count": 122,
   "metadata": {
    "collapsed": false
   },
   "outputs": [
    {
     "name": "stdout",
     "output_type": "stream",
     "text": [
      "Optimization terminated successfully.\n",
      "         Current function value: 0.281820\n",
      "         Iterations 6\n",
      "\n",
      "                           Logit Regression Results                           \n",
      "==============================================================================\n",
      "Dep. Variable:          violation2012   No. Observations:                  184\n",
      "Model:                          Logit   Df Residuals:                      182\n",
      "Method:                           MLE   Df Model:                            1\n",
      "Date:                Wed, 10 Feb 2016   Pseudo R-squ.:                0.002304\n",
      "Time:                        13:01:01   Log-Likelihood:                -51.855\n",
      "converged:                       True   LL-Null:                       -51.975\n",
      "                                        LLR p-value:                    0.6246\n",
      "==============================================================================\n",
      "                 coef    std err          z      P>|z|      [95.0% Conf. Int.]\n",
      "------------------------------------------------------------------------------\n",
      "Intercept     -2.2900      0.371     -6.172      0.000        -3.017    -1.563\n",
      "convin        -0.2639      0.540     -0.489      0.625        -1.322     0.795\n",
      "==============================================================================\n",
      "Intercept    0.101266\n",
      "convin       0.768056\n",
      "dtype: float64\n"
     ]
    }
   ],
   "source": [
    "logit_mod17 = smf.logit('violation2012 ~ convin', data = outletposse_merged2).fit()\n",
    "print\n",
    "print(logit_mod17.summary())\n",
    "print np.exp(logit_mod17.params)"
   ]
  },
  {
   "cell_type": "markdown",
   "metadata": {},
   "source": [
    "violation 2012 and grocery "
   ]
  },
  {
   "cell_type": "code",
   "execution_count": 123,
   "metadata": {
    "collapsed": false
   },
   "outputs": [
    {
     "name": "stdout",
     "output_type": "stream",
     "text": [
      "Optimization terminated successfully.\n",
      "         Current function value: 0.281637\n",
      "         Iterations 6\n",
      "\n",
      "                           Logit Regression Results                           \n",
      "==============================================================================\n",
      "Dep. Variable:          violation2012   No. Observations:                  184\n",
      "Model:                          Logit   Df Residuals:                      182\n",
      "Method:                           MLE   Df Model:                            1\n",
      "Date:                Wed, 10 Feb 2016   Pseudo R-squ.:                0.002950\n",
      "Time:                        13:01:10   Log-Likelihood:                -51.821\n",
      "converged:                       True   LL-Null:                       -51.975\n",
      "                                        LLR p-value:                    0.5798\n",
      "==============================================================================\n",
      "                 coef    std err          z      P>|z|      [95.0% Conf. Int.]\n",
      "------------------------------------------------------------------------------\n",
      "Intercept     -2.4547      0.279     -8.814      0.000        -3.001    -1.909\n",
      "grocery        0.6629      1.115      0.594      0.552        -1.523     2.849\n",
      "==============================================================================\n",
      "Intercept    0.085890\n",
      "grocery      1.940476\n",
      "dtype: float64\n"
     ]
    }
   ],
   "source": [
    "logit_mod18 = smf.logit('violation2012 ~ grocery', data = outletposse_merged2).fit()\n",
    "print\n",
    "print(logit_mod18.summary())\n",
    "print np.exp(logit_mod18.params)"
   ]
  },
  {
   "cell_type": "markdown",
   "metadata": {},
   "source": [
    "violation 2012 and gas station "
   ]
  },
  {
   "cell_type": "code",
   "execution_count": 124,
   "metadata": {
    "collapsed": false
   },
   "outputs": [
    {
     "name": "stdout",
     "output_type": "stream",
     "text": [
      "Optimization terminated successfully.\n",
      "         Current function value: 0.282207\n",
      "         Iterations 6\n",
      "\n",
      "                           Logit Regression Results                           \n",
      "==============================================================================\n",
      "Dep. Variable:          violation2012   No. Observations:                  184\n",
      "Model:                          Logit   Df Residuals:                      182\n",
      "Method:                           MLE   Df Model:                            1\n",
      "Date:                Wed, 10 Feb 2016   Pseudo R-squ.:               0.0009310\n",
      "Time:                        13:01:15   Log-Likelihood:                -51.926\n",
      "converged:                       True   LL-Null:                       -51.975\n",
      "                                        LLR p-value:                    0.7557\n",
      "==============================================================================\n",
      "                 coef    std err          z      P>|z|      [95.0% Conf. Int.]\n",
      "------------------------------------------------------------------------------\n",
      "Intercept     -2.4523      0.289     -8.484      0.000        -3.019    -1.886\n",
      "GasStation     0.2551      0.799      0.319      0.750        -1.312     1.822\n",
      "==============================================================================\n",
      "Intercept     0.086093\n",
      "GasStation    1.290598\n",
      "dtype: float64\n"
     ]
    }
   ],
   "source": [
    "logit_mod19 = smf.logit('violation2012 ~ GasStation', data = outletposse_merged2).fit()\n",
    "print\n",
    "print(logit_mod19.summary())\n",
    "print np.exp(logit_mod19.params)"
   ]
  },
  {
   "cell_type": "markdown",
   "metadata": {},
   "source": [
    "violation 2012 African American 56%"
   ]
  },
  {
   "cell_type": "code",
   "execution_count": 125,
   "metadata": {
    "collapsed": false
   },
   "outputs": [
    {
     "name": "stdout",
     "output_type": "stream",
     "text": [
      "Optimization terminated successfully.\n",
      "         Current function value: 0.274530\n",
      "         Iterations 7\n",
      "\n",
      "                           Logit Regression Results                           \n",
      "==============================================================================\n",
      "Dep. Variable:          violation2012   No. Observations:                  184\n",
      "Model:                          Logit   Df Residuals:                      182\n",
      "Method:                           MLE   Df Model:                            1\n",
      "Date:                Wed, 10 Feb 2016   Pseudo R-squ.:                 0.02811\n",
      "Time:                        13:01:20   Log-Likelihood:                -50.513\n",
      "converged:                       True   LL-Null:                       -51.975\n",
      "                                        LLR p-value:                   0.08737\n",
      "=====================================================================================\n",
      "                        coef    std err          z      P>|z|      [95.0% Conf. Int.]\n",
      "-------------------------------------------------------------------------------------\n",
      "Intercept            -2.9444      0.459     -6.417      0.000        -3.844    -2.045\n",
      "black_prec_binary     0.9430      0.569      1.657      0.098        -0.173     2.059\n",
      "=====================================================================================\n",
      "Intercept            0.052632\n",
      "black_prec_binary    2.567568\n",
      "dtype: float64\n"
     ]
    }
   ],
   "source": [
    "logit_mod20 = smf.logit('violation2012 ~ black_prec_binary', data = outletposse_merged2).fit()\n",
    "print\n",
    "print(logit_mod20.summary())\n",
    "print np.exp(logit_mod20.params)"
   ]
  },
  {
   "cell_type": "code",
   "execution_count": 140,
   "metadata": {
    "collapsed": false
   },
   "outputs": [
    {
     "name": "stdout",
     "output_type": "stream",
     "text": [
      "Warning: Maximum number of iterations has been exceeded.\n",
      "         Current function value: 0.281542\n",
      "         Iterations: 35\n",
      "\n",
      "                           Logit Regression Results                           \n",
      "==============================================================================\n",
      "Dep. Variable:          violation2012   No. Observations:                  184\n",
      "Model:                          Logit   Df Residuals:                      182\n",
      "Method:                           MLE   Df Model:                            1\n",
      "Date:                Wed, 10 Feb 2016   Pseudo R-squ.:                0.003286\n",
      "Time:                        13:21:57   Log-Likelihood:                -51.804\n",
      "converged:                      False   LL-Null:                       -51.975\n",
      "                                        LLR p-value:                    0.5589\n",
      "=================================================================================\n",
      "                    coef    std err          z      P>|z|      [95.0% Conf. Int.]\n",
      "---------------------------------------------------------------------------------\n",
      "Intercept        -2.4099      0.270     -8.941      0.000        -2.938    -1.882\n",
      "resturant_bar    -6.5295     61.762     -0.106      0.916      -127.580   114.521\n",
      "=================================================================================\n",
      "Intercept        0.08982\n",
      "resturant_bar    0.00146\n",
      "dtype: float64\n"
     ]
    },
    {
     "name": "stderr",
     "output_type": "stream",
     "text": [
      "/usr/local/lib/python2.7/site-packages/statsmodels/base/model.py:466: ConvergenceWarning: Maximum Likelihood optimization failed to converge. Check mle_retvals\n",
      "  \"Check mle_retvals\", ConvergenceWarning)\n"
     ]
    }
   ],
   "source": [
    "logit_mod20 = smf.logit('violation2012 ~ resturant_bar', data = outletposse_merged2).fit()\n",
    "print\n",
    "print(logit_mod20.summary())\n",
    "print np.exp(logit_mod20.params)"
   ]
  },
  {
   "cell_type": "code",
   "execution_count": null,
   "metadata": {
    "collapsed": true
   },
   "outputs": [],
   "source": []
  },
  {
   "cell_type": "markdown",
   "metadata": {},
   "source": [
    "## 2013"
   ]
  },
  {
   "cell_type": "markdown",
   "metadata": {},
   "source": [
    "violation 2013 and liquor "
   ]
  },
  {
   "cell_type": "code",
   "execution_count": 127,
   "metadata": {
    "collapsed": false
   },
   "outputs": [
    {
     "name": "stdout",
     "output_type": "stream",
     "text": [
      "Optimization terminated successfully.\n",
      "         Current function value: 0.322974\n",
      "         Iterations 6\n",
      "\n",
      "                           Logit Regression Results                           \n",
      "==============================================================================\n",
      "Dep. Variable:          violation2013   No. Observations:                  272\n",
      "Model:                          Logit   Df Residuals:                      270\n",
      "Method:                           MLE   Df Model:                            1\n",
      "Date:                Wed, 10 Feb 2016   Pseudo R-squ.:                0.001517\n",
      "Time:                        13:14:16   Log-Likelihood:                -87.849\n",
      "converged:                       True   LL-Null:                       -87.982\n",
      "                                        LLR p-value:                    0.6054\n",
      "==============================================================================\n",
      "                 coef    std err          z      P>|z|      [95.0% Conf. Int.]\n",
      "------------------------------------------------------------------------------\n",
      "Intercept     -2.1578      0.220     -9.798      0.000        -2.589    -1.726\n",
      "Liquor        -0.2845      0.566     -0.503      0.615        -1.394     0.825\n",
      "==============================================================================\n",
      "Intercept    0.115578\n",
      "Liquor       0.752363\n",
      "dtype: float64\n"
     ]
    }
   ],
   "source": [
    "logit_mod21 = smf.logit('violation2013 ~ Liquor', data = outletposse_merged2).fit()\n",
    "print\n",
    "print(logit_mod21.summary())\n",
    "print np.exp(logit_mod21.params)"
   ]
  },
  {
   "cell_type": "markdown",
   "metadata": {},
   "source": [
    "violation 2013 and convient "
   ]
  },
  {
   "cell_type": "code",
   "execution_count": 128,
   "metadata": {
    "collapsed": false
   },
   "outputs": [
    {
     "name": "stdout",
     "output_type": "stream",
     "text": [
      "Optimization terminated successfully.\n",
      "         Current function value: 0.322549\n",
      "         Iterations 6\n",
      "\n",
      "                           Logit Regression Results                           \n",
      "==============================================================================\n",
      "Dep. Variable:          violation2013   No. Observations:                  272\n",
      "Model:                          Logit   Df Residuals:                      270\n",
      "Method:                           MLE   Df Model:                            1\n",
      "Date:                Wed, 10 Feb 2016   Pseudo R-squ.:                0.002828\n",
      "Time:                        13:14:23   Log-Likelihood:                -87.733\n",
      "converged:                       True   LL-Null:                       -87.982\n",
      "                                        LLR p-value:                    0.4805\n",
      "==============================================================================\n",
      "                 coef    std err          z      P>|z|      [95.0% Conf. Int.]\n",
      "------------------------------------------------------------------------------\n",
      "Intercept     -2.3795      0.331     -7.199      0.000        -3.027    -1.732\n",
      "convin         0.2928      0.419      0.699      0.484        -0.528     1.114\n",
      "==============================================================================\n",
      "Intercept    0.092593\n",
      "convin       1.340146\n",
      "dtype: float64\n"
     ]
    }
   ],
   "source": [
    "logit_mod22 = smf.logit('violation2013 ~ convin', data = outletposse_merged2).fit()\n",
    "print\n",
    "print(logit_mod22.summary())\n",
    "print np.exp(logit_mod22.params)"
   ]
  },
  {
   "cell_type": "markdown",
   "metadata": {},
   "source": [
    "violation 2013 and grocery "
   ]
  },
  {
   "cell_type": "code",
   "execution_count": 129,
   "metadata": {
    "collapsed": false
   },
   "outputs": [
    {
     "name": "stdout",
     "output_type": "stream",
     "text": [
      "Optimization terminated successfully.\n",
      "         Current function value: 0.323396\n",
      "         Iterations 6\n",
      "\n",
      "                           Logit Regression Results                           \n",
      "==============================================================================\n",
      "Dep. Variable:          violation2013   No. Observations:                  272\n",
      "Model:                          Logit   Df Residuals:                      270\n",
      "Method:                           MLE   Df Model:                            1\n",
      "Date:                Wed, 10 Feb 2016   Pseudo R-squ.:               0.0002125\n",
      "Time:                        13:14:27   Log-Likelihood:                -87.964\n",
      "converged:                       True   LL-Null:                       -87.982\n",
      "                                        LLR p-value:                    0.8467\n",
      "==============================================================================\n",
      "                 coef    std err          z      P>|z|      [95.0% Conf. Int.]\n",
      "------------------------------------------------------------------------------\n",
      "Intercept     -2.1972      0.207    -10.629      0.000        -2.602    -1.792\n",
      "grocery       -0.2007      1.065     -0.188      0.851        -2.287     1.886\n",
      "==============================================================================\n",
      "Intercept    0.111111\n",
      "grocery      0.818182\n",
      "dtype: float64\n"
     ]
    }
   ],
   "source": [
    "logit_mod23 = smf.logit('violation2013 ~ grocery', data = outletposse_merged2).fit()\n",
    "print\n",
    "print(logit_mod23.summary())\n",
    "print np.exp(logit_mod23.params)"
   ]
  },
  {
   "cell_type": "markdown",
   "metadata": {},
   "source": [
    "violation 2013 and gas station "
   ]
  },
  {
   "cell_type": "code",
   "execution_count": 130,
   "metadata": {
    "collapsed": false
   },
   "outputs": [
    {
     "name": "stdout",
     "output_type": "stream",
     "text": [
      "Optimization terminated successfully.\n",
      "         Current function value: 0.323380\n",
      "         Iterations 6\n",
      "\n",
      "                           Logit Regression Results                           \n",
      "==============================================================================\n",
      "Dep. Variable:          violation2013   No. Observations:                  272\n",
      "Model:                          Logit   Df Residuals:                      270\n",
      "Method:                           MLE   Df Model:                            1\n",
      "Date:                Wed, 10 Feb 2016   Pseudo R-squ.:               0.0002594\n",
      "Time:                        13:14:31   Log-Likelihood:                -87.959\n",
      "converged:                       True   LL-Null:                       -87.982\n",
      "                                        LLR p-value:                    0.8308\n",
      "==============================================================================\n",
      "                 coef    std err          z      P>|z|      [95.0% Conf. Int.]\n",
      "------------------------------------------------------------------------------\n",
      "Intercept     -2.2201      0.215    -10.330      0.000        -2.641    -1.799\n",
      "GasStation     0.1407      0.649      0.217      0.828        -1.131     1.413\n",
      "==============================================================================\n",
      "Intercept     0.108597\n",
      "GasStation    1.151042\n",
      "dtype: float64\n"
     ]
    }
   ],
   "source": [
    "logit_mod24 = smf.logit('violation2013 ~ GasStation', data = outletposse_merged2).fit()\n",
    "print\n",
    "print(logit_mod24.summary())\n",
    "print np.exp(logit_mod24.params)"
   ]
  },
  {
   "cell_type": "markdown",
   "metadata": {},
   "source": [
    "violation 2013 and African American 56%"
   ]
  },
  {
   "cell_type": "code",
   "execution_count": 131,
   "metadata": {
    "collapsed": false
   },
   "outputs": [
    {
     "name": "stdout",
     "output_type": "stream",
     "text": [
      "Optimization terminated successfully.\n",
      "         Current function value: 0.319098\n",
      "         Iterations 6\n",
      "\n",
      "                           Logit Regression Results                           \n",
      "==============================================================================\n",
      "Dep. Variable:          violation2013   No. Observations:                  272\n",
      "Model:                          Logit   Df Residuals:                      270\n",
      "Method:                           MLE   Df Model:                            1\n",
      "Date:                Wed, 10 Feb 2016   Pseudo R-squ.:                 0.01350\n",
      "Time:                        13:14:35   Log-Likelihood:                -86.795\n",
      "converged:                       True   LL-Null:                       -87.982\n",
      "                                        LLR p-value:                    0.1233\n",
      "=====================================================================================\n",
      "                        coef    std err          z      P>|z|      [95.0% Conf. Int.]\n",
      "-------------------------------------------------------------------------------------\n",
      "Intercept            -2.5294      0.313     -8.073      0.000        -3.143    -1.915\n",
      "black_prec_binary     0.6291      0.412      1.526      0.127        -0.179     1.437\n",
      "=====================================================================================\n",
      "Intercept            0.079710\n",
      "black_prec_binary    1.875956\n",
      "dtype: float64\n"
     ]
    }
   ],
   "source": [
    "logit_mod25 = smf.logit('violation2013 ~ black_prec_binary', data = outletposse_merged2).fit()\n",
    "print\n",
    "print(logit_mod25.summary())\n",
    "print np.exp(logit_mod25.params)"
   ]
  },
  {
   "cell_type": "code",
   "execution_count": 133,
   "metadata": {
    "collapsed": false
   },
   "outputs": [
    {
     "name": "stdout",
     "output_type": "stream",
     "text": [
      "Warning: Maximum number of iterations has been exceeded.\n",
      "         Current function value: 0.323079\n",
      "         Iterations: 35\n",
      "\n",
      "                           Logit Regression Results                           \n",
      "==============================================================================\n",
      "Dep. Variable:          violation2013   No. Observations:                  272\n",
      "Model:                          Logit   Df Residuals:                      270\n",
      "Method:                           MLE   Df Model:                            1\n",
      "Date:                Wed, 10 Feb 2016   Pseudo R-squ.:                0.001191\n",
      "Time:                        13:15:15   Log-Likelihood:                -87.878\n",
      "converged:                      False   LL-Null:                       -87.982\n",
      "                                        LLR p-value:                    0.6472\n",
      "=================================================================================\n",
      "                    coef    std err          z      P>|z|      [95.0% Conf. Int.]\n",
      "---------------------------------------------------------------------------------\n",
      "Intercept        -2.2013      0.203    -10.854      0.000        -2.599    -1.804\n",
      "Mass_retailer   -23.1053   3.13e+05  -7.39e-05      1.000     -6.13e+05  6.13e+05\n",
      "=================================================================================\n",
      "Intercept        1.106557e-01\n",
      "Mass_retailer    9.236434e-11\n",
      "dtype: float64\n"
     ]
    },
    {
     "name": "stderr",
     "output_type": "stream",
     "text": [
      "/usr/local/lib/python2.7/site-packages/statsmodels/base/model.py:466: ConvergenceWarning: Maximum Likelihood optimization failed to converge. Check mle_retvals\n",
      "  \"Check mle_retvals\", ConvergenceWarning)\n"
     ]
    }
   ],
   "source": [
    "logit_mod25 = smf.logit('violation2013 ~ Mass_retailer', data = outletposse_merged2).fit()\n",
    "print\n",
    "print(logit_mod25.summary())\n",
    "print np.exp(logit_mod25.params)"
   ]
  },
  {
   "cell_type": "markdown",
   "metadata": {},
   "source": [
    "### NO RESTURANT_BAR CATEGORY INSPECTED ON 2013"
   ]
  },
  {
   "cell_type": "markdown",
   "metadata": {},
   "source": [
    "## logit for violation per year = retail type +high school proximity "
   ]
  },
  {
   "cell_type": "markdown",
   "metadata": {},
   "source": [
    "## 2010"
   ]
  },
  {
   "cell_type": "markdown",
   "metadata": {},
   "source": [
    "### high school prox"
   ]
  },
  {
   "cell_type": "code",
   "execution_count": 132,
   "metadata": {
    "collapsed": false
   },
   "outputs": [
    {
     "name": "stdout",
     "output_type": "stream",
     "text": [
      "Warning: Maximum number of iterations has been exceeded.\n",
      "         Current function value: 0.295286\n",
      "         Iterations: 35\n",
      "\n",
      "                           Logit Regression Results                           \n",
      "==============================================================================\n",
      "Dep. Variable:          violation2010   No. Observations:                   26\n",
      "Model:                          Logit   Df Residuals:                       21\n",
      "Method:                           MLE   Df Model:                            4\n",
      "Date:                Wed, 10 Feb 2016   Pseudo R-squ.:                  0.3122\n",
      "Time:                        13:14:39   Log-Likelihood:                -7.6774\n",
      "converged:                      False   LL-Null:                       -11.162\n",
      "                                        LLR p-value:                    0.1375\n",
      "===========================================================================================\n",
      "                              coef    std err          z      P>|z|      [95.0% Conf. Int.]\n",
      "-------------------------------------------------------------------------------------------\n",
      "Intercept                  -4.7719      6.286     -0.759      0.448       -17.092     7.548\n",
      "Liquor                    -10.1096    175.396     -0.058      0.954      -353.879   333.660\n",
      "m100public_high_school      0.3956      0.310      1.276      0.202        -0.212     1.003\n",
      "m100charter_high_school    -0.2665      0.295     -0.905      0.366        -0.844     0.311\n",
      "m100private_high_school     0.0458      0.337      0.136      0.892        -0.614     0.706\n",
      "===========================================================================================\n",
      "Intercept                  0.008464\n",
      "Liquor                     0.000041\n",
      "m100public_high_school     1.485277\n",
      "m100charter_high_school    0.766070\n",
      "m100private_high_school    1.046877\n",
      "dtype: float64\n"
     ]
    },
    {
     "name": "stderr",
     "output_type": "stream",
     "text": [
      "/usr/local/lib/python2.7/site-packages/statsmodels/base/model.py:466: ConvergenceWarning: Maximum Likelihood optimization failed to converge. Check mle_retvals\n",
      "  \"Check mle_retvals\", ConvergenceWarning)\n"
     ]
    }
   ],
   "source": [
    "logit_mod = smf.logit('violation2010 ~ Liquor + m100public_high_school + m100charter_high_school+ m100private_high_school', data = outletposse_merged2).fit()\n",
    "print\n",
    "print(logit_mod.summary())\n",
    "print np.exp(logit_mod.params)"
   ]
  },
  {
   "cell_type": "code",
   "execution_count": 185,
   "metadata": {
    "collapsed": false
   },
   "outputs": [
    {
     "name": "stdout",
     "output_type": "stream",
     "text": [
      "Optimization terminated successfully.\n",
      "         Current function value: 0.349079\n",
      "         Iterations 7\n",
      "\n",
      "                           Logit Regression Results                           \n",
      "==============================================================================\n",
      "Dep. Variable:          violation2010   No. Observations:                   95\n",
      "Model:                          Logit   Df Residuals:                       91\n",
      "Method:                           MLE   Df Model:                            3\n",
      "Date:                Wed, 10 Feb 2016   Pseudo R-squ.:                  0.1255\n",
      "Time:                        14:41:34   Log-Likelihood:                -33.163\n",
      "converged:                       True   LL-Null:                       -37.923\n",
      "                                        LLR p-value:                   0.02311\n",
      "===========================================================================================\n",
      "                              coef    std err          z      P>|z|      [95.0% Conf. Int.]\n",
      "-------------------------------------------------------------------------------------------\n",
      "Intercept                  -6.7384      1.928     -3.495      0.000       -10.517    -2.960\n",
      "grocery                     0.2967      0.913      0.325      0.745        -1.492     2.086\n",
      "m100public_high_school      0.1502      0.094      1.598      0.110        -0.034     0.335\n",
      "m100private_high_school     0.2743      0.111      2.471      0.013         0.057     0.492\n",
      "===========================================================================================\n",
      "Intercept                  0.001185\n",
      "grocery                    1.345467\n",
      "m100public_high_school     1.162101\n",
      "m100private_high_school    1.315618\n",
      "dtype: float64\n"
     ]
    }
   ],
   "source": [
    "\n",
    "#m100charter_high_school===== does not exsits for 2011?? \n",
    "\n",
    "logit_mod13 = smf.logit('violation2010 ~ grocery+ m100public_high_school+m100private_high_school', data = outletposse_merged2).fit()\n",
    "print\n",
    "print(logit_mod13.summary())\n",
    "print np.exp(logit_mod13.params)"
   ]
  },
  {
   "cell_type": "markdown",
   "metadata": {},
   "source": [
    "## 2011"
   ]
  },
  {
   "cell_type": "code",
   "execution_count": 184,
   "metadata": {
    "collapsed": false
   },
   "outputs": [],
   "source": [
    "#synar[synar['violation2011']==1]"
   ]
  },
  {
   "cell_type": "code",
   "execution_count": 186,
   "metadata": {
    "collapsed": false
   },
   "outputs": [
    {
     "name": "stdout",
     "output_type": "stream",
     "text": [
      "Warning: Maximum number of iterations has been exceeded.\n",
      "         Current function value: 0.317042\n",
      "         Iterations: 35\n",
      "\n",
      "                           Logit Regression Results                           \n",
      "==============================================================================\n",
      "Dep. Variable:          violation2010   No. Observations:                   26\n",
      "Model:                          Logit   Df Residuals:                       21\n",
      "Method:                           MLE   Df Model:                            4\n",
      "Date:                Wed, 10 Feb 2016   Pseudo R-squ.:                  0.2615\n",
      "Time:                        14:41:45   Log-Likelihood:                -8.2431\n",
      "converged:                      False   LL-Null:                       -11.162\n",
      "                                        LLR p-value:                    0.2115\n",
      "===========================================================================================\n",
      "                              coef    std err          z      P>|z|      [95.0% Conf. Int.]\n",
      "-------------------------------------------------------------------------------------------\n",
      "Intercept                  -5.0281      6.430     -0.782      0.434       -17.630     7.574\n",
      "GasStation                -18.7331   6.38e+04     -0.000      1.000     -1.25e+05  1.25e+05\n",
      "m100public_high_school      0.3938      0.360      1.093      0.275        -0.313     1.100\n",
      "m100charter_high_school    -0.2537      0.305     -0.831      0.406        -0.852     0.345\n",
      "m100private_high_school     0.0447      0.330      0.136      0.892        -0.601     0.691\n",
      "===========================================================================================\n",
      "Intercept                  6.551291e-03\n",
      "GasStation                 7.317049e-09\n",
      "m100public_high_school     1.482589e+00\n",
      "m100charter_high_school    7.759137e-01\n",
      "m100private_high_school    1.045763e+00\n",
      "dtype: float64\n"
     ]
    },
    {
     "name": "stderr",
     "output_type": "stream",
     "text": [
      "/usr/local/lib/python2.7/site-packages/statsmodels/base/model.py:466: ConvergenceWarning: Maximum Likelihood optimization failed to converge. Check mle_retvals\n",
      "  \"Check mle_retvals\", ConvergenceWarning)\n"
     ]
    }
   ],
   "source": [
    "logit_mod = smf.logit('violation2010 ~ GasStation + m100public_high_school + m100charter_high_school+ m100private_high_school', data = outletposse_merged2).fit()\n",
    "print\n",
    "print(logit_mod.summary())\n",
    "print np.exp(logit_mod.params)"
   ]
  },
  {
   "cell_type": "code",
   "execution_count": 187,
   "metadata": {
    "collapsed": false
   },
   "outputs": [
    {
     "name": "stdout",
     "output_type": "stream",
     "text": [
      "Optimization terminated successfully.\n",
      "         Current function value: 0.356376\n",
      "         Iterations 6\n",
      "\n",
      "                           Logit Regression Results                           \n",
      "==============================================================================\n",
      "Dep. Variable:          violation2010   No. Observations:                   77\n",
      "Model:                          Logit   Df Residuals:                       73\n",
      "Method:                           MLE   Df Model:                            3\n",
      "Date:                Wed, 10 Feb 2016   Pseudo R-squ.:                 0.01190\n",
      "Time:                        14:41:48   Log-Likelihood:                -27.441\n",
      "converged:                       True   LL-Null:                       -27.771\n",
      "                                        LLR p-value:                    0.8823\n",
      "===========================================================================================\n",
      "                              coef    std err          z      P>|z|      [95.0% Conf. Int.]\n",
      "-------------------------------------------------------------------------------------------\n",
      "Intercept                  -2.5036      1.594     -1.571      0.116        -5.628     0.621\n",
      "convin                     -0.1977      0.732     -0.270      0.787        -1.632     1.236\n",
      "m100public_high_school      0.0711      0.102      0.697      0.486        -0.129     0.271\n",
      "m100charter_high_school    -0.0252      0.092     -0.274      0.784        -0.205     0.155\n",
      "===========================================================================================\n",
      "Intercept                  0.081788\n",
      "convin                     0.820575\n",
      "m100public_high_school     1.073719\n",
      "m100charter_high_school    0.975117\n",
      "dtype: float64\n"
     ]
    }
   ],
   "source": [
    "##+ m100private_high_school dosen't exists for 2011 and \n",
    "\n",
    "logit_mod = smf.logit('violation2010 ~ convin + m100public_high_school++ m100charter_high_school', data = outletposse_merged2).fit()\n",
    "print\n",
    "print(logit_mod.summary())\n",
    "print np.exp(logit_mod.params)"
   ]
  },
  {
   "cell_type": "code",
   "execution_count": 195,
   "metadata": {
    "collapsed": false
   },
   "outputs": [
    {
     "name": "stdout",
     "output_type": "stream",
     "text": [
      "Optimization terminated successfully.\n",
      "         Current function value: 0.317901\n",
      "         Iterations 8\n",
      "\n",
      "                           Logit Regression Results                           \n",
      "==============================================================================\n",
      "Dep. Variable:          violation2010   No. Observations:                   26\n",
      "Model:                          Logit   Df Residuals:                       21\n",
      "Method:                           MLE   Df Model:                            4\n",
      "Date:                Wed, 10 Feb 2016   Pseudo R-squ.:                  0.2595\n",
      "Time:                        14:45:21   Log-Likelihood:                -8.2654\n",
      "converged:                       True   LL-Null:                       -11.162\n",
      "                                        LLR p-value:                    0.2151\n",
      "===========================================================================================\n",
      "                              coef    std err          z      P>|z|      [95.0% Conf. Int.]\n",
      "-------------------------------------------------------------------------------------------\n",
      "Intercept                  -5.9903      8.657     -0.692      0.489       -22.959    10.978\n",
      "black_prec_binary           0.2319      1.925      0.120      0.904        -3.541     4.004\n",
      "m100public_high_school      0.4276      0.349      1.226      0.220        -0.256     1.111\n",
      "m100charter_high_school    -0.2423      0.325     -0.746      0.456        -0.879     0.394\n",
      "m100private_high_school     0.0695      0.423      0.164      0.869        -0.759     0.898\n",
      "===========================================================================================\n",
      "Intercept                  0.002503\n",
      "black_prec_binary          1.261020\n",
      "m100public_high_school     1.533605\n",
      "m100charter_high_school    0.784799\n",
      "m100private_high_school    1.071953\n",
      "dtype: float64\n"
     ]
    }
   ],
   "source": [
    "logit_mod = smf.logit('violation2010 ~ black_prec_binary + m100public_high_school+ m100charter_high_school+ m100private_high_school', data = outletposse_merged2).fit()\n",
    "print\n",
    "print(logit_mod.summary())\n",
    "print np.exp(logit_mod.params)"
   ]
  },
  {
   "cell_type": "code",
   "execution_count": 199,
   "metadata": {
    "collapsed": false
   },
   "outputs": [
    {
     "name": "stdout",
     "output_type": "stream",
     "text": [
      "Warning: Maximum number of iterations has been exceeded.\n",
      "         Current function value: 0.234400\n",
      "         Iterations: 35\n",
      "\n",
      "                           Logit Regression Results                           \n",
      "==============================================================================\n",
      "Dep. Variable:          violation2010   No. Observations:                   50\n",
      "Model:                          Logit   Df Residuals:                       46\n",
      "Method:                           MLE   Df Model:                            3\n",
      "Date:                Wed, 10 Feb 2016   Pseudo R-squ.:                  0.1592\n",
      "Time:                        14:56:13   Log-Likelihood:                -11.720\n",
      "converged:                      False   LL-Null:                       -13.938\n",
      "                                        LLR p-value:                    0.2180\n",
      "===========================================================================================\n",
      "                              coef    std err          z      P>|z|      [95.0% Conf. Int.]\n",
      "-------------------------------------------------------------------------------------------\n",
      "Intercept                  -4.6207      3.378     -1.368      0.171       -11.241     2.000\n",
      "Mass_retailer             -18.4154   3.66e+04     -0.001      1.000     -7.17e+04  7.17e+04\n",
      "m100private_high_school     0.3206      0.234      1.367      0.172        -0.139     0.780\n",
      "m100charter_high_school    -0.1963      0.170     -1.156      0.248        -0.529     0.136\n",
      "===========================================================================================\n",
      "Intercept                  9.845906e-03\n",
      "Mass_retailer              1.005246e-08\n",
      "m100private_high_school    1.377936e+00\n",
      "m100charter_high_school    8.217843e-01\n",
      "dtype: float64\n"
     ]
    },
    {
     "name": "stderr",
     "output_type": "stream",
     "text": [
      "/usr/local/lib/python2.7/site-packages/statsmodels/base/model.py:466: ConvergenceWarning: Maximum Likelihood optimization failed to converge. Check mle_retvals\n",
      "  \"Check mle_retvals\", ConvergenceWarning)\n"
     ]
    }
   ],
   "source": [
    "##+ m100public_high_school not exsting for 2010\n",
    "logit_mod = smf.logit('violation2010 ~ Mass_retailer+ m100private_high_school + m100charter_high_school', data = outletposse_merged2).fit()\n",
    "print\n",
    "print(logit_mod.summary())\n",
    "print np.exp(logit_mod.params)"
   ]
  },
  {
   "cell_type": "code",
   "execution_count": 211,
   "metadata": {
    "collapsed": false
   },
   "outputs": [
    {
     "name": "stdout",
     "output_type": "stream",
     "text": [
      "Warning: Maximum number of iterations has been exceeded.\n",
      "         Current function value: 0.296246\n",
      "         Iterations: 35\n",
      "\n",
      "                           Logit Regression Results                           \n",
      "==============================================================================\n",
      "Dep. Variable:          violation2010   No. Observations:                   26\n",
      "Model:                          Logit   Df Residuals:                       21\n",
      "Method:                           MLE   Df Model:                            4\n",
      "Date:                Wed, 10 Feb 2016   Pseudo R-squ.:                  0.3100\n",
      "Time:                        14:58:29   Log-Likelihood:                -7.7024\n",
      "converged:                      False   LL-Null:                       -11.162\n",
      "                                        LLR p-value:                    0.1402\n",
      "===========================================================================================\n",
      "                              coef    std err          z      P>|z|      [95.0% Conf. Int.]\n",
      "-------------------------------------------------------------------------------------------\n",
      "Intercept                  -3.8515      6.575     -0.586      0.558       -16.738     9.035\n",
      "resturant_bar1            -18.0969   8934.588     -0.002      0.998     -1.75e+04  1.75e+04\n",
      "m100public_high_school      0.4302      0.348      1.238      0.216        -0.251     1.111\n",
      "m100private_high_school    -0.0116      0.340     -0.034      0.973        -0.678     0.654\n",
      "m100charter_high_school    -0.3485      0.360     -0.968      0.333        -1.054     0.357\n",
      "===========================================================================================\n",
      "Intercept                  2.124808e-02\n",
      "resturant_bar1             1.382314e-08\n",
      "m100public_high_school     1.537629e+00\n",
      "m100private_high_school    9.884912e-01\n",
      "m100charter_high_school    7.057542e-01\n",
      "dtype: float64\n"
     ]
    },
    {
     "name": "stderr",
     "output_type": "stream",
     "text": [
      "/usr/local/lib/python2.7/site-packages/statsmodels/base/model.py:466: ConvergenceWarning: Maximum Likelihood optimization failed to converge. Check mle_retvals\n",
      "  \"Check mle_retvals\", ConvergenceWarning)\n"
     ]
    }
   ],
   "source": [
    "logit_mod = smf.logit('violation2010 ~ resturant_bar1+m100public_high_school+ m100private_high_school+m100charter_high_school', data = outletposse_merged2).fit()\n",
    "print\n",
    "print(logit_mod.summary())\n",
    "print np.exp(logit_mod.params)"
   ]
  },
  {
   "cell_type": "markdown",
   "metadata": {},
   "source": [
    "### 2011 violations +schools "
   ]
  },
  {
   "cell_type": "code",
   "execution_count": 212,
   "metadata": {
    "collapsed": false
   },
   "outputs": [
    {
     "name": "stdout",
     "output_type": "stream",
     "text": [
      "Optimization terminated successfully.\n",
      "         Current function value: 0.288478\n",
      "         Iterations 25\n",
      "\n",
      "                           Logit Regression Results                           \n",
      "==============================================================================\n",
      "Dep. Variable:          violation2011   No. Observations:                   21\n",
      "Model:                          Logit   Df Residuals:                       16\n",
      "Method:                           MLE   Df Model:                            4\n",
      "Date:                Wed, 10 Feb 2016   Pseudo R-squ.:                 0.08272\n",
      "Time:                        15:00:37   Log-Likelihood:                -6.0580\n",
      "converged:                       True   LL-Null:                       -6.6043\n",
      "                                        LLR p-value:                    0.8954\n",
      "===========================================================================================\n",
      "                              coef    std err          z      P>|z|      [95.0% Conf. Int.]\n",
      "-------------------------------------------------------------------------------------------\n",
      "Intercept                   0.7287      4.954      0.147      0.883        -8.982    10.439\n",
      "Liquor                   -172.1436   5.88e+37  -2.93e-36      1.000     -1.15e+38  1.15e+38\n",
      "m100public_high_school     -0.0314      0.247     -0.127      0.899        -0.516     0.454\n",
      "m100charter_high_school    -0.1497      0.441     -0.339      0.734        -1.014     0.715\n",
      "m100private_high_school    -0.1269      0.358     -0.355      0.723        -0.828     0.574\n",
      "===========================================================================================\n",
      "Intercept                  2.072356e+00\n",
      "Liquor                     1.733756e-75\n",
      "m100public_high_school     9.690921e-01\n",
      "m100charter_high_school    8.609849e-01\n",
      "m100private_high_school    8.808481e-01\n",
      "dtype: float64\n"
     ]
    }
   ],
   "source": [
    "logit_mod = smf.logit('violation2011 ~ Liquor + m100public_high_school+ m100charter_high_school+ m100private_high_school', data = outletposse_merged2).fit()\n",
    "print\n",
    "print(logit_mod.summary())\n",
    "print np.exp(logit_mod.params)"
   ]
  },
  {
   "cell_type": "code",
   "execution_count": 217,
   "metadata": {
    "collapsed": false
   },
   "outputs": [
    {
     "name": "stdout",
     "output_type": "stream",
     "text": [
      "Warning: Maximum number of iterations has been exceeded.\n",
      "         Current function value: 0.274664\n",
      "         Iterations: 35\n",
      "\n",
      "                           Logit Regression Results                           \n",
      "==============================================================================\n",
      "Dep. Variable:          violation2011   No. Observations:                   85\n",
      "Model:                          Logit   Df Residuals:                       81\n",
      "Method:                           MLE   Df Model:                            3\n",
      "Date:                Wed, 10 Feb 2016   Pseudo R-squ.:                 0.03450\n",
      "Time:                        15:01:46   Log-Likelihood:                -23.346\n",
      "converged:                      False   LL-Null:                       -24.181\n",
      "                                        LLR p-value:                    0.6440\n",
      "===========================================================================================\n",
      "                              coef    std err          z      P>|z|      [95.0% Conf. Int.]\n",
      "-------------------------------------------------------------------------------------------\n",
      "Intercept                  -2.8635      1.763     -1.624      0.104        -6.319     0.592\n",
      "grocery                   -14.2348   2688.994     -0.005      0.996     -5284.567  5256.097\n",
      "m100public_high_school     -0.0636      0.099     -0.641      0.522        -0.258     0.131\n",
      "m100private_high_school     0.1076      0.125      0.863      0.388        -0.137     0.352\n",
      "===========================================================================================\n",
      "Intercept                  5.707018e-02\n",
      "grocery                    6.574919e-07\n",
      "m100public_high_school     9.383593e-01\n",
      "m100private_high_school    1.113615e+00\n",
      "dtype: float64\n"
     ]
    },
    {
     "name": "stderr",
     "output_type": "stream",
     "text": [
      "/usr/local/lib/python2.7/site-packages/statsmodels/base/model.py:466: ConvergenceWarning: Maximum Likelihood optimization failed to converge. Check mle_retvals\n",
      "  \"Check mle_retvals\", ConvergenceWarning)\n"
     ]
    }
   ],
   "source": [
    "#+ + m100charter_high_school not exsiting for grocery 2011\n",
    "logit_mod = smf.logit('violation2011 ~ grocery + m100public_high_school+m100private_high_school', data = outletposse_merged2).fit()\n",
    "print\n",
    "print(logit_mod.summary())\n",
    "print np.exp(logit_mod.params)"
   ]
  },
  {
   "cell_type": "code",
   "execution_count": 219,
   "metadata": {
    "collapsed": false
   },
   "outputs": [
    {
     "name": "stdout",
     "output_type": "stream",
     "text": [
      "Warning: Maximum number of iterations has been exceeded.\n",
      "         Current function value: 0.286012\n",
      "         Iterations: 35\n",
      "\n",
      "                           Logit Regression Results                           \n",
      "==============================================================================\n",
      "Dep. Variable:          violation2011   No. Observations:                   21\n",
      "Model:                          Logit   Df Residuals:                       16\n",
      "Method:                           MLE   Df Model:                            4\n",
      "Date:                Wed, 10 Feb 2016   Pseudo R-squ.:                 0.09056\n",
      "Time:                        15:04:27   Log-Likelihood:                -6.0063\n",
      "converged:                      False   LL-Null:                       -6.6043\n",
      "                                        LLR p-value:                    0.8787\n",
      "===========================================================================================\n",
      "                              coef    std err          z      P>|z|      [95.0% Conf. Int.]\n",
      "-------------------------------------------------------------------------------------------\n",
      "Intercept                   1.0638      4.964      0.214      0.830        -8.665    10.793\n",
      "GasStation                -19.5636   3.38e+04     -0.001      1.000     -6.63e+04  6.62e+04\n",
      "m100public_high_school     -0.0846      0.265     -0.319      0.750        -0.604     0.435\n",
      "m100private_high_school    -0.1494      0.369     -0.405      0.685        -0.872     0.574\n",
      "m100charter_high_school    -0.1020      0.448     -0.227      0.820        -0.981     0.777\n",
      "===========================================================================================\n",
      "Intercept                  2.897485e+00\n",
      "GasStation                 3.189000e-09\n",
      "m100public_high_school     9.189130e-01\n",
      "m100private_high_school    8.612027e-01\n",
      "m100charter_high_school    9.030442e-01\n",
      "dtype: float64\n"
     ]
    },
    {
     "name": "stderr",
     "output_type": "stream",
     "text": [
      "/usr/local/lib/python2.7/site-packages/statsmodels/base/model.py:466: ConvergenceWarning: Maximum Likelihood optimization failed to converge. Check mle_retvals\n",
      "  \"Check mle_retvals\", ConvergenceWarning)\n"
     ]
    }
   ],
   "source": [
    "#+  \n",
    "logit_mod = smf.logit('violation2011 ~ GasStation + m100public_high_school+ m100private_high_school + m100charter_high_school', data = outletposse_merged2).fit()\n",
    "print\n",
    "print(logit_mod.summary())\n",
    "print np.exp(logit_mod.params)"
   ]
  },
  {
   "cell_type": "code",
   "execution_count": 221,
   "metadata": {
    "collapsed": false
   },
   "outputs": [
    {
     "name": "stdout",
     "output_type": "stream",
     "text": [
      "Optimization terminated successfully.\n",
      "         Current function value: 0.264821\n",
      "         Iterations 7\n",
      "\n",
      "                           Logit Regression Results                           \n",
      "==============================================================================\n",
      "Dep. Variable:          violation2011   No. Observations:                   85\n",
      "Model:                          Logit   Df Residuals:                       81\n",
      "Method:                           MLE   Df Model:                            3\n",
      "Date:                Wed, 10 Feb 2016   Pseudo R-squ.:                 0.06910\n",
      "Time:                        15:05:04   Log-Likelihood:                -22.510\n",
      "converged:                       True   LL-Null:                       -24.181\n",
      "                                        LLR p-value:                    0.3419\n",
      "===========================================================================================\n",
      "                              coef    std err          z      P>|z|      [95.0% Conf. Int.]\n",
      "-------------------------------------------------------------------------------------------\n",
      "Intercept                  -3.7217      2.030     -1.833      0.067        -7.701     0.257\n",
      "convin                      1.3991      1.110      1.260      0.208        -0.777     3.575\n",
      "m100public_high_school     -0.0671      0.098     -0.683      0.494        -0.259     0.125\n",
      "m100private_high_school     0.0916      0.132      0.696      0.486        -0.166     0.349\n",
      "===========================================================================================\n",
      "Intercept                  0.024193\n",
      "convin                     4.051569\n",
      "m100public_high_school     0.935126\n",
      "m100private_high_school    1.095905\n",
      "dtype: float64\n"
     ]
    }
   ],
   "source": [
    "# m100charter_high_school\n",
    "logit_mod = smf.logit('violation2011 ~ convin + m100public_high_school+ m100private_high_school', data = outletposse_merged2).fit()\n",
    "print\n",
    "print(logit_mod.summary())\n",
    "print np.exp(logit_mod.params)"
   ]
  },
  {
   "cell_type": "code",
   "execution_count": 222,
   "metadata": {
    "collapsed": false
   },
   "outputs": [
    {
     "name": "stdout",
     "output_type": "stream",
     "text": [
      "Warning: Maximum number of iterations has been exceeded.\n",
      "         Current function value: 0.229032\n",
      "         Iterations: 35\n",
      "\n",
      "                           Logit Regression Results                           \n",
      "==============================================================================\n",
      "Dep. Variable:          violation2011   No. Observations:                   21\n",
      "Model:                          Logit   Df Residuals:                       16\n",
      "Method:                           MLE   Df Model:                            4\n",
      "Date:                Wed, 10 Feb 2016   Pseudo R-squ.:                  0.2717\n",
      "Time:                        15:05:56   Log-Likelihood:                -4.8097\n",
      "converged:                      False   LL-Null:                       -6.6043\n",
      "                                        LLR p-value:                    0.4644\n",
      "===========================================================================================\n",
      "                              coef    std err          z      P>|z|      [95.0% Conf. Int.]\n",
      "-------------------------------------------------------------------------------------------\n",
      "Intercept                 -31.3578   3.71e+04     -0.001      0.999     -7.27e+04  7.26e+04\n",
      "black_prec_binary          23.7255   3.71e+04      0.001      0.999     -7.26e+04  7.27e+04\n",
      "m100public_high_school     -0.0305      0.401     -0.076      0.939        -0.816     0.755\n",
      "m100private_high_school     0.4654      0.571      0.815      0.415        -0.654     1.585\n",
      "m100charter_high_school     0.2286      0.871      0.263      0.793        -1.478     1.935\n",
      "===========================================================================================\n",
      "Intercept                  2.407082e-14\n",
      "black_prec_binary          2.013011e+10\n",
      "m100public_high_school     9.699236e-01\n",
      "m100private_high_school    1.592660e+00\n",
      "m100charter_high_school    1.256805e+00\n",
      "dtype: float64\n"
     ]
    },
    {
     "name": "stderr",
     "output_type": "stream",
     "text": [
      "/usr/local/lib/python2.7/site-packages/statsmodels/base/model.py:466: ConvergenceWarning: Maximum Likelihood optimization failed to converge. Check mle_retvals\n",
      "  \"Check mle_retvals\", ConvergenceWarning)\n"
     ]
    }
   ],
   "source": [
    "# \n",
    "logit_mod = smf.logit('violation2011 ~ black_prec_binary + m100public_high_school+ m100private_high_school + m100charter_high_school', data = outletposse_merged2).fit()\n",
    "print\n",
    "print(logit_mod.summary())\n",
    "print np.exp(logit_mod.params)"
   ]
  },
  {
   "cell_type": "code",
   "execution_count": 223,
   "metadata": {
    "collapsed": false
   },
   "outputs": [
    {
     "name": "stdout",
     "output_type": "stream",
     "text": [
      "Warning: Maximum number of iterations has been exceeded.\n",
      "         Current function value: 0.292563\n",
      "         Iterations: 35\n",
      "\n",
      "                           Logit Regression Results                           \n",
      "==============================================================================\n",
      "Dep. Variable:          violation2011   No. Observations:                   21\n",
      "Model:                          Logit   Df Residuals:                       16\n",
      "Method:                           MLE   Df Model:                            4\n",
      "Date:                Wed, 10 Feb 2016   Pseudo R-squ.:                 0.06973\n",
      "Time:                        15:06:55   Log-Likelihood:                -6.1438\n",
      "converged:                      False   LL-Null:                       -6.6043\n",
      "                                        LLR p-value:                    0.9215\n",
      "===========================================================================================\n",
      "                              coef    std err          z      P>|z|      [95.0% Conf. Int.]\n",
      "-------------------------------------------------------------------------------------------\n",
      "Intercept                   0.5045      5.031      0.100      0.920        -9.356    10.365\n",
      "Mass_retailer             -18.0518   3.38e+04     -0.001      1.000     -6.63e+04  6.62e+04\n",
      "m100public_high_school     -0.0408      0.251     -0.163      0.871        -0.533     0.451\n",
      "m100private_high_school    -0.1003      0.357     -0.281      0.779        -0.801     0.600\n",
      "m100charter_high_school    -0.1543      0.452     -0.341      0.733        -1.040     0.732\n",
      "===========================================================================================\n",
      "Intercept                  1.656180e+00\n",
      "Mass_retailer              1.446099e-08\n",
      "m100public_high_school     9.600233e-01\n",
      "m100private_high_school    9.046021e-01\n",
      "m100charter_high_school    8.570559e-01\n",
      "dtype: float64\n"
     ]
    },
    {
     "name": "stderr",
     "output_type": "stream",
     "text": [
      "/usr/local/lib/python2.7/site-packages/statsmodels/base/model.py:466: ConvergenceWarning: Maximum Likelihood optimization failed to converge. Check mle_retvals\n",
      "  \"Check mle_retvals\", ConvergenceWarning)\n"
     ]
    }
   ],
   "source": [
    "logit_mod = smf.logit('violation2011 ~ Mass_retailer + m100public_high_school+ m100private_high_school + m100charter_high_school', data = outletposse_merged2).fit()\n",
    "print\n",
    "print(logit_mod.summary())\n",
    "print np.exp(logit_mod.params)"
   ]
  },
  {
   "cell_type": "code",
   "execution_count": 232,
   "metadata": {
    "collapsed": false
   },
   "outputs": [
    {
     "name": "stdout",
     "output_type": "stream",
     "text": [
      "Warning: Maximum number of iterations has been exceeded.\n",
      "         Current function value: 0.275866\n",
      "         Iterations: 35\n",
      "\n",
      "                           Logit Regression Results                           \n",
      "==============================================================================\n",
      "Dep. Variable:          violation2011   No. Observations:                   85\n",
      "Model:                          Logit   Df Residuals:                       81\n",
      "Method:                           MLE   Df Model:                            3\n",
      "Date:                Wed, 10 Feb 2016   Pseudo R-squ.:                 0.03028\n",
      "Time:                        15:10:01   Log-Likelihood:                -23.449\n",
      "converged:                      False   LL-Null:                       -24.181\n",
      "                                        LLR p-value:                    0.6906\n",
      "===========================================================================================\n",
      "                              coef    std err          z      P>|z|      [95.0% Conf. Int.]\n",
      "-------------------------------------------------------------------------------------------\n",
      "Intercept                  -2.8110      1.770     -1.588      0.112        -6.280     0.658\n",
      "resturant_bar1            -23.4608   3.93e+05  -5.97e-05      1.000      -7.7e+05   7.7e+05\n",
      "m100private_high_school     0.0993      0.126      0.787      0.431        -0.148     0.346\n",
      "m100public_high_school     -0.0612      0.100     -0.611      0.541        -0.257     0.135\n",
      "===========================================================================================\n",
      "Intercept                  6.014646e-02\n",
      "resturant_bar1             6.473146e-11\n",
      "m100private_high_school    1.104380e+00\n",
      "m100public_high_school     9.406592e-01\n",
      "dtype: float64\n"
     ]
    },
    {
     "name": "stderr",
     "output_type": "stream",
     "text": [
      "/usr/local/lib/python2.7/site-packages/statsmodels/base/model.py:466: ConvergenceWarning: Maximum Likelihood optimization failed to converge. Check mle_retvals\n",
      "  \"Check mle_retvals\", ConvergenceWarning)\n"
     ]
    }
   ],
   "source": [
    " ##+ '+ +m100charter_high_school\n",
    "logit_mod = smf.logit('violation2011 ~ resturant_bar1 +m100private_high_school+ m100public_high_school', data = outletposse_merged2).fit()\n",
    "print\n",
    "print(logit_mod.summary())\n",
    "print np.exp(logit_mod.params)"
   ]
  },
  {
   "cell_type": "markdown",
   "metadata": {},
   "source": [
    "## 2012 violations and high school prox"
   ]
  },
  {
   "cell_type": "code",
   "execution_count": 235,
   "metadata": {
    "collapsed": false
   },
   "outputs": [
    {
     "name": "stdout",
     "output_type": "stream",
     "text": [
      "Warning: Maximum number of iterations has been exceeded.\n",
      "         Current function value: 0.263795\n",
      "         Iterations: 35\n",
      "\n",
      "                           Logit Regression Results                           \n",
      "==============================================================================\n",
      "Dep. Variable:          violation2012   No. Observations:                   45\n",
      "Model:                          Logit   Df Residuals:                       41\n",
      "Method:                           MLE   Df Model:                            3\n",
      "Date:                Wed, 10 Feb 2016   Pseudo R-squ.:                  0.2438\n",
      "Time:                        15:16:53   Log-Likelihood:                -11.871\n",
      "converged:                      False   LL-Null:                       -15.697\n",
      "                                        LLR p-value:                   0.05375\n",
      "===========================================================================================\n",
      "                              coef    std err          z      P>|z|      [95.0% Conf. Int.]\n",
      "-------------------------------------------------------------------------------------------\n",
      "Intercept                   2.6680      2.801      0.952      0.341        -2.823     8.159\n",
      "Liquor                    -15.1614   1538.324     -0.010      0.992     -3030.221  2999.898\n",
      "m100public_high_school     -0.3283      0.162     -2.022      0.043        -0.647    -0.010\n",
      "m100private_high_school    -0.1544      0.178     -0.866      0.386        -0.504     0.195\n",
      "===========================================================================================\n",
      "Intercept                  1.441152e+01\n",
      "Liquor                     2.603119e-07\n",
      "m100public_high_school     7.201376e-01\n",
      "m100private_high_school    8.569480e-01\n",
      "dtype: float64\n"
     ]
    },
    {
     "name": "stderr",
     "output_type": "stream",
     "text": [
      "/usr/local/lib/python2.7/site-packages/statsmodels/base/model.py:466: ConvergenceWarning: Maximum Likelihood optimization failed to converge. Check mle_retvals\n",
      "  \"Check mle_retvals\", ConvergenceWarning)\n"
     ]
    }
   ],
   "source": [
    "#m100charter_high_school not exsiting \n",
    "\n",
    "logit_mod = smf.logit('violation2012 ~ Liquor + m100public_high_school+ m100private_high_school ', data = outletposse_merged2).fit()\n",
    "print\n",
    "print(logit_mod.summary())\n",
    "print np.exp(logit_mod.params)"
   ]
  },
  {
   "cell_type": "code",
   "execution_count": 240,
   "metadata": {
    "collapsed": false
   },
   "outputs": [
    {
     "name": "stdout",
     "output_type": "stream",
     "text": [
      "Optimization terminated successfully.\n",
      "         Current function value: 0.243582\n",
      "         Iterations 8\n",
      "\n",
      "                           Logit Regression Results                           \n",
      "==============================================================================\n",
      "Dep. Variable:          violation2012   No. Observations:                   45\n",
      "Model:                          Logit   Df Residuals:                       41\n",
      "Method:                           MLE   Df Model:                            3\n",
      "Date:                Wed, 10 Feb 2016   Pseudo R-squ.:                  0.3017\n",
      "Time:                        15:17:59   Log-Likelihood:                -10.961\n",
      "converged:                       True   LL-Null:                       -15.697\n",
      "                                        LLR p-value:                   0.02363\n",
      "===========================================================================================\n",
      "                              coef    std err          z      P>|z|      [95.0% Conf. Int.]\n",
      "-------------------------------------------------------------------------------------------\n",
      "Intercept                   2.7101      3.011      0.900      0.368        -3.192     8.612\n",
      "grocery                     3.7600      1.825      2.060      0.039         0.183     7.337\n",
      "m100public_high_school     -0.4497      0.203     -2.215      0.027        -0.848    -0.052\n",
      "m100private_high_school    -0.1335      0.195     -0.687      0.492        -0.515     0.248\n",
      "===========================================================================================\n",
      "Intercept                  15.031509\n",
      "grocery                    42.950241\n",
      "m100public_high_school      0.637847\n",
      "m100private_high_school     0.874996\n",
      "dtype: float64\n"
     ]
    }
   ],
   "source": [
    "#m100charter_high_school not exsiting \n",
    "\n",
    "logit_mod = smf.logit('violation2012 ~ grocery + m100public_high_school+ m100private_high_school ', data = outletposse_merged2).fit()\n",
    "print\n",
    "print(logit_mod.summary())\n",
    "print np.exp(logit_mod.params)"
   ]
  },
  {
   "cell_type": "code",
   "execution_count": 244,
   "metadata": {
    "collapsed": false
   },
   "outputs": [
    {
     "name": "stdout",
     "output_type": "stream",
     "text": [
      "Warning: Maximum number of iterations has been exceeded.\n",
      "         Current function value: 0.218892\n",
      "         Iterations: 35\n",
      "\n",
      "                           Logit Regression Results                           \n",
      "==============================================================================\n",
      "Dep. Variable:          violation2012   No. Observations:                   43\n",
      "Model:                          Logit   Df Residuals:                       39\n",
      "Method:                           MLE   Df Model:                            3\n",
      "Date:                Wed, 10 Feb 2016   Pseudo R-squ.:                  0.1349\n",
      "Time:                        15:19:40   Log-Likelihood:                -9.4124\n",
      "converged:                      False   LL-Null:                       -10.881\n",
      "                                        LLR p-value:                    0.4015\n",
      "===========================================================================================\n",
      "                              coef    std err          z      P>|z|      [95.0% Conf. Int.]\n",
      "-------------------------------------------------------------------------------------------\n",
      "Intercept                  -0.0870      1.742     -0.050      0.960        -3.501     3.327\n",
      "GasStation                -26.5667   9.14e+05  -2.91e-05      1.000     -1.79e+06  1.79e+06\n",
      "m100public_high_school     -0.0905      0.166     -0.545      0.586        -0.416     0.235\n",
      "m100charter_high_school    -0.1754      0.150     -1.169      0.242        -0.470     0.119\n",
      "===========================================================================================\n",
      "Intercept                  9.166743e-01\n",
      "GasStation                 2.898858e-12\n",
      "m100public_high_school     9.134479e-01\n",
      "m100charter_high_school    8.390925e-01\n",
      "dtype: float64\n"
     ]
    },
    {
     "name": "stderr",
     "output_type": "stream",
     "text": [
      "/usr/local/lib/python2.7/site-packages/statsmodels/base/model.py:466: ConvergenceWarning: Maximum Likelihood optimization failed to converge. Check mle_retvals\n",
      "  \"Check mle_retvals\", ConvergenceWarning)\n"
     ]
    }
   ],
   "source": [
    "# + m100private_high_school\n",
    "\n",
    "logit_mod = smf.logit('violation2012 ~ GasStation + m100public_high_school + m100charter_high_school ', data = outletposse_merged2).fit()\n",
    "print\n",
    "print(logit_mod.summary())\n",
    "print np.exp(logit_mod.params)"
   ]
  },
  {
   "cell_type": "code",
   "execution_count": 248,
   "metadata": {
    "collapsed": false
   },
   "outputs": [
    {
     "name": "stdout",
     "output_type": "stream",
     "text": [
      "Warning: Maximum number of iterations has been exceeded.\n",
      "         Current function value: 0.196730\n",
      "         Iterations: 35\n",
      "\n",
      "                           Logit Regression Results                           \n",
      "==============================================================================\n",
      "Dep. Variable:          violation2012   No. Observations:                   43\n",
      "Model:                          Logit   Df Residuals:                       39\n",
      "Method:                           MLE   Df Model:                            3\n",
      "Date:                Wed, 10 Feb 2016   Pseudo R-squ.:                  0.2225\n",
      "Time:                        15:20:29   Log-Likelihood:                -8.4594\n",
      "converged:                      False   LL-Null:                       -10.881\n",
      "                                        LLR p-value:                    0.1837\n",
      "===========================================================================================\n",
      "                              coef    std err          z      P>|z|      [95.0% Conf. Int.]\n",
      "-------------------------------------------------------------------------------------------\n",
      "Intercept                 -21.6332   3.97e+04     -0.001      1.000     -7.78e+04  7.77e+04\n",
      "convin                     21.8351   3.97e+04      0.001      1.000     -7.77e+04  7.78e+04\n",
      "m100public_high_school     -0.0529      0.156     -0.338      0.735        -0.359     0.253\n",
      "m100charter_high_school    -0.2075      0.156     -1.328      0.184        -0.514     0.099\n",
      "===========================================================================================\n",
      "Intercept                  4.025635e-10\n",
      "convin                     3.039907e+09\n",
      "m100public_high_school     9.484680e-01\n",
      "m100charter_high_school    8.125758e-01\n",
      "dtype: float64\n"
     ]
    },
    {
     "name": "stderr",
     "output_type": "stream",
     "text": [
      "/usr/local/lib/python2.7/site-packages/statsmodels/base/model.py:466: ConvergenceWarning: Maximum Likelihood optimization failed to converge. Check mle_retvals\n",
      "  \"Check mle_retvals\", ConvergenceWarning)\n"
     ]
    }
   ],
   "source": [
    "# + m100private_high_school  not exsiting\n",
    "\n",
    "logit_mod = smf.logit('violation2012 ~ convin + m100public_high_school + m100charter_high_school', data = outletposse_merged2).fit()\n",
    "print\n",
    "print(logit_mod.summary())\n",
    "print np.exp(logit_mod.params)"
   ]
  },
  {
   "cell_type": "code",
   "execution_count": 251,
   "metadata": {
    "collapsed": false
   },
   "outputs": [
    {
     "name": "stdout",
     "output_type": "stream",
     "text": [
      "Optimization terminated successfully.\n",
      "         Current function value: 0.281714\n",
      "         Iterations 7\n",
      "\n",
      "                           Logit Regression Results                           \n",
      "==============================================================================\n",
      "Dep. Variable:          violation2012   No. Observations:                   45\n",
      "Model:                          Logit   Df Residuals:                       41\n",
      "Method:                           MLE   Df Model:                            3\n",
      "Date:                Wed, 10 Feb 2016   Pseudo R-squ.:                  0.1924\n",
      "Time:                        15:21:56   Log-Likelihood:                -12.677\n",
      "converged:                       True   LL-Null:                       -15.697\n",
      "                                        LLR p-value:                    0.1097\n",
      "===========================================================================================\n",
      "                              coef    std err          z      P>|z|      [95.0% Conf. Int.]\n",
      "-------------------------------------------------------------------------------------------\n",
      "Intercept                   0.9039      2.787      0.324      0.746        -4.559     6.367\n",
      "black_prec_binary           0.9623      1.307      0.736      0.462        -1.600     3.525\n",
      "m100public_high_school     -0.2570      0.171     -1.500      0.134        -0.593     0.079\n",
      "m100private_high_school    -0.1053      0.184     -0.573      0.566        -0.465     0.255\n",
      "===========================================================================================\n",
      "Intercept                  2.469318\n",
      "black_prec_binary          2.617782\n",
      "m100public_high_school     0.773389\n",
      "m100private_high_school    0.900035\n",
      "dtype: float64\n"
     ]
    }
   ],
   "source": [
    "#+ m100charter_high_school not exsiting \n",
    "\n",
    "logit_mod = smf.logit('violation2012 ~ black_prec_binary + m100public_high_school+ m100private_high_school ', data = outletposse_merged2).fit()\n",
    "print\n",
    "print(logit_mod.summary())\n",
    "print np.exp(logit_mod.params)"
   ]
  },
  {
   "cell_type": "code",
   "execution_count": 256,
   "metadata": {
    "collapsed": false
   },
   "outputs": [
    {
     "name": "stdout",
     "output_type": "stream",
     "text": [
      "Optimization terminated successfully.\n",
      "         Current function value: 0.226641\n",
      "         Iterations 29\n",
      "\n",
      "                           Logit Regression Results                           \n",
      "==============================================================================\n",
      "Dep. Variable:          violation2012   No. Observations:                   43\n",
      "Model:                          Logit   Df Residuals:                       39\n",
      "Method:                           MLE   Df Model:                            3\n",
      "Date:                Wed, 10 Feb 2016   Pseudo R-squ.:                  0.1043\n",
      "Time:                        15:22:51   Log-Likelihood:                -9.7456\n",
      "converged:                       True   LL-Null:                       -10.881\n",
      "                                        LLR p-value:                    0.5183\n",
      "===========================================================================================\n",
      "                              coef    std err          z      P>|z|      [95.0% Conf. Int.]\n",
      "-------------------------------------------------------------------------------------------\n",
      "Intercept                  -0.0527      1.758     -0.030      0.976        -3.498     3.392\n",
      "Mass_retailer             -50.7025   5.75e+11  -8.82e-11      1.000     -1.13e+12  1.13e+12\n",
      "m100public_high_school     -0.1011      0.163     -0.620      0.535        -0.421     0.219\n",
      "m100charter_high_school    -0.1850      0.156     -1.187      0.235        -0.490     0.120\n",
      "===========================================================================================\n",
      "Intercept                  9.486449e-01\n",
      "Mass_retailer              9.553736e-23\n",
      "m100public_high_school     9.038083e-01\n",
      "m100charter_high_school    8.310847e-01\n",
      "dtype: float64\n"
     ]
    }
   ],
   "source": [
    "#not exsiting : + m100private_high_school\n",
    "\n",
    "logit_mod = smf.logit('violation2012 ~ Mass_retailer + m100public_high_school+ m100charter_high_school  ', data = outletposse_merged2).fit()\n",
    "print\n",
    "print(logit_mod.summary())\n",
    "print np.exp(logit_mod.params)"
   ]
  },
  {
   "cell_type": "code",
   "execution_count": 259,
   "metadata": {
    "collapsed": false
   },
   "outputs": [
    {
     "name": "stdout",
     "output_type": "stream",
     "text": [
      "Warning: Maximum number of iterations has been exceeded.\n",
      "         Current function value: 0.282430\n",
      "         Iterations: 35\n",
      "\n",
      "                           Logit Regression Results                           \n",
      "==============================================================================\n",
      "Dep. Variable:          violation2012   No. Observations:                   45\n",
      "Model:                          Logit   Df Residuals:                       41\n",
      "Method:                           MLE   Df Model:                            3\n",
      "Date:                Wed, 10 Feb 2016   Pseudo R-squ.:                  0.1904\n",
      "Time:                        15:23:31   Log-Likelihood:                -12.709\n",
      "converged:                      False   LL-Null:                       -15.697\n",
      "                                        LLR p-value:                    0.1128\n",
      "===========================================================================================\n",
      "                              coef    std err          z      P>|z|      [95.0% Conf. Int.]\n",
      "-------------------------------------------------------------------------------------------\n",
      "Intercept                   1.4363      2.520      0.570      0.569        -3.503     6.376\n",
      "resturant_bar1            -19.6253   3.67e+04     -0.001      1.000     -7.19e+04  7.19e+04\n",
      "m100public_high_school     -0.3164      0.152     -2.078      0.038        -0.615    -0.018\n",
      "m100private_high_school    -0.0687      0.165     -0.417      0.677        -0.392     0.254\n",
      "===========================================================================================\n",
      "Intercept                  4.205077e+00\n",
      "resturant_bar1             2.997994e-09\n",
      "m100public_high_school     7.287769e-01\n",
      "m100private_high_school    9.335804e-01\n",
      "dtype: float64\n"
     ]
    },
    {
     "name": "stderr",
     "output_type": "stream",
     "text": [
      "/usr/local/lib/python2.7/site-packages/statsmodels/base/model.py:466: ConvergenceWarning: Maximum Likelihood optimization failed to converge. Check mle_retvals\n",
      "  \"Check mle_retvals\", ConvergenceWarning)\n"
     ]
    }
   ],
   "source": [
    "#not exsiting :  + m100charter_high_school \n",
    "\n",
    "logit_mod = smf.logit('violation2012 ~ resturant_bar1 + m100public_high_school+ m100private_high_school  ', data = outletposse_merged2).fit()\n",
    "print\n",
    "print(logit_mod.summary())\n",
    "print np.exp(logit_mod.params)"
   ]
  },
  {
   "cell_type": "markdown",
   "metadata": {},
   "source": [
    "## Next: 2013 violations and park prox"
   ]
  },
  {
   "cell_type": "code",
   "execution_count": null,
   "metadata": {
    "collapsed": true
   },
   "outputs": [],
   "source": [
    "# high school proximity variable: \n",
    "# charter_high_school\n",
    "# private_high_school_prox\n",
    "# public_high_school_prox"
   ]
  },
  {
   "cell_type": "code",
   "execution_count": null,
   "metadata": {
    "collapsed": true
   },
   "outputs": [],
   "source": [
    "# parks proximity variable: \n",
    "# track_prox \n",
    "# tennis_court_prox\n",
    "# soccer_fields_prox\n",
    "# roadway_green_space_prox\n",
    "# recreation_area_prox\n",
    "# basketball_courts_prox\n",
    "# baseball_fields_prox\n",
    "# playground_prox"
   ]
  },
  {
   "cell_type": "code",
   "execution_count": null,
   "metadata": {
    "collapsed": true
   },
   "outputs": [],
   "source": [
    "# public housing proximity \n",
    "# public_housing_prox"
   ]
  }
 ],
 "metadata": {
  "kernelspec": {
   "display_name": "Python 2",
   "language": "python",
   "name": "python2"
  },
  "language_info": {
   "codemirror_mode": {
    "name": "ipython",
    "version": 2
   },
   "file_extension": ".py",
   "mimetype": "text/x-python",
   "name": "python",
   "nbconvert_exporter": "python",
   "pygments_lexer": "ipython2",
   "version": "2.7.10"
  }
 },
 "nbformat": 4,
 "nbformat_minor": 0
}
